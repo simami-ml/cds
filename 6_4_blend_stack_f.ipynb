{
  "cells": [
    {
      "cell_type": "markdown",
      "metadata": {
        "id": "view-in-github",
        "colab_type": "text"
      },
      "source": [
        "<a href=\"https://colab.research.google.com/github/simami-ml/cds/blob/main/6_4_blend_stack_f.ipynb\" target=\"_parent\"><img src=\"https://colab.research.google.com/assets/colab-badge.svg\" alt=\"Open In Colab\"/></a>"
      ]
    },
    {
      "cell_type": "markdown",
      "metadata": {
        "id": "Np6_a8ho-Dsr"
      },
      "source": [
        "# **Большой практический урок по блендингу и стэкингу.**\n",
        "\n",
        "\n",
        "## Задача: \"Обучи модели для блендинга и стэккинга, выбери лучшие\"\n",
        "\n",
        "**Датасеты:**\n",
        "- quickstart_train.csv https://raw.githubusercontent.com/a-milenkin/Competitive_Data_Science/main/data/quickstart_train.csv\n",
        "- quickstart_test.csv https://raw.githubusercontent.com/a-milenkin/Competitive_Data_Science/main/data/quickstart_test.csv\n",
        "\n",
        "**Регрессионный таргет:** столбец `target_reg` , метрика `RMSE`\n",
        "\n",
        "Для блендинга и стэккинга выбрать 3 модели:\n",
        "\n",
        "- Любые 2 бустинга на ваш выбор\n",
        "- Любую другую модель (не бустинг)\n",
        "\n",
        "Для стэккинга в качестве метамодели желательно взять простой алгоритм (регрессию, KNN и.т.п)\n",
        "\n",
        "Не обязательно выбирать одинаковые тройки, можно для стэккинга одни, для блэндинга другие 3. Можно использовать модели из предыдущей практики.\n",
        "\n",
        "Далее реализуем блэндинг и стэккинг и делаем финальное предсказание:\n",
        "\n",
        "- можно выбрать предсказание от блендинга\n",
        "- можно от стэккинга\n",
        "- можно ансамбль блэндинга и стэккинга\n",
        "- можно блэндинг блэндинга и стэккинга с весами\n",
        "\n",
        "**Дополнительные условия:**\n",
        "\n",
        "Особо ничем вас не ограничиваем, можно пользоваться всем арсеналом: подбирать гиперпараметры в Optuna, генерить\\отбирать признаки и.т.п. Но желательно сосредоточиться на освоении блендинга со стэккингом и подбором моделей для них.\n",
        "Сохраняем в submission.csv только колонки car_id и target_reg\n",
        "В конце добавляем выводы о проделанных экспериментах, что зашло - не зашло.\n",
        "Желательно, чтобы на выполнение всего ноутбука уходило не более 30 мин.\n",
        "\n",
        "**Формат сдачи:**\n",
        "\n",
        "В текстовом поле вводим ссылки на онлайн версию jupyter ноутбука (GoogleСolab, Kaggle) с выполненным заданием, и публичную ссылку на файлхостинг (GoogleDrive, ЯндексДиск или др.) с оригиналом ноутбука. (проверяем, что они работают).\n",
        "Во вложение добавляем тот же ноутбук, сохраненный в формате pdf с аутпутами всех ячеек (не более 5 Mb).\n",
        "В следующем шаге отправляем получившийся CSV файл с предсказаниями."
      ]
    },
    {
      "cell_type": "code",
      "execution_count": null,
      "metadata": {
        "id": "lB6wxT7e7b-I"
      },
      "outputs": [],
      "source": [
        "#!pip install pandas seaborn optuna xgboost lightgbm catboost termcolor ipywidgets vecstack -q"
      ]
    },
    {
      "cell_type": "code",
      "execution_count": null,
      "metadata": {
        "colab": {
          "base_uri": "https://localhost:8080/",
          "height": 17
        },
        "id": "IfgsbY1f7b-J",
        "outputId": "20600840-c78e-4ee3-abcc-917227ca8098"
      },
      "outputs": [
        {
          "output_type": "display_data",
          "data": {
            "text/plain": [
              "<IPython.core.display.HTML object>"
            ],
            "text/html": [
              "<style>.container { width:80% !important; }</style>"
            ]
          },
          "metadata": {}
        }
      ],
      "source": [
        "from IPython.display import display, HTML\n",
        "display(HTML(\"<style>.container { width:80% !important; }</style>\"))"
      ]
    },
    {
      "cell_type": "code",
      "execution_count": null,
      "metadata": {
        "id": "-Kj2xsUq-Oov"
      },
      "outputs": [],
      "source": [
        "import time\n",
        "\n",
        "import pandas as pd\n",
        "import numpy as np\n",
        "import seaborn as sns\n",
        "import optuna\n",
        "\n",
        "import xgboost as xgb\n",
        "import lightgbm as lgb\n",
        "import catboost as cb\n",
        "\n",
        "import matplotlib\n",
        "import matplotlib.pyplot as plt\n",
        "from matplotlib.pyplot import cm\n",
        "from matplotlib.cm import get_cmap\n",
        "\n",
        "from math import sqrt\n",
        "from scipy import stats\n",
        "\n",
        "from sklearn.model_selection import KFold, train_test_split, GridSearchCV\n",
        "from sklearn.metrics import mean_squared_error,  mean_absolute_error\n",
        "from sklearn.preprocessing import LabelEncoder, OneHotEncoder, StandardScaler\n",
        "from sklearn.ensemble import RandomForestRegressor, StackingRegressor\n",
        "from sklearn.linear_model import LinearRegression, RidgeCV\n",
        "from sklearn.neighbors import KNeighborsRegressor\n",
        "from sklearn.tree import DecisionTreeRegressor\n",
        "from sklearn.svm import SVR, LinearSVR\n",
        "from sklearn.pipeline import Pipeline, make_pipeline\n",
        "from sklearn.compose import ColumnTransformer\n",
        "from sklearn.impute import SimpleImputer\n",
        "\n",
        "from vecstack import StackingTransformer\n",
        "from vecstack import stacking\n",
        "\n",
        "from termcolor import colored\n",
        "\n",
        "import warnings\n",
        "warnings.filterwarnings(\"ignore\")\n",
        "\n",
        "matplotlib.style.use('ggplot')\n",
        "pd.set_option('display.max_rows', None)\n",
        "pd.options.mode.chained_assignment = None\n",
        "optuna.logging.set_verbosity(optuna.logging.WARNING)\n",
        "\n",
        "start_time = time.time()"
      ]
    },
    {
      "cell_type": "markdown",
      "metadata": {
        "id": "fx36Gvid7b-K"
      },
      "source": [
        "## Загрузка и подготовка данных"
      ]
    },
    {
      "cell_type": "markdown",
      "metadata": {
        "id": "aOY1SlII7b-K"
      },
      "source": [
        "Подгрузим и изучим данные."
      ]
    },
    {
      "cell_type": "code",
      "execution_count": null,
      "metadata": {
        "colab": {
          "base_uri": "https://localhost:8080/",
          "height": 579
        },
        "id": "baoK7XBmAGTO",
        "outputId": "866a3aaf-a258-4f3b-ca02-f75edfc67b04"
      },
      "outputs": [
        {
          "output_type": "display_data",
          "data": {
            "text/plain": [
              "         car_id        model car_type fuel_type  car_rating  year_to_start  \\\n",
              "269  s54993523h  Smart Coupe  economy    petrol        3.18           2015   \n",
              "\n",
              "     riders  year_to_work  target_reg target_class  mean_rating  distance_sum  \\\n",
              "269   78583          2015       58.08  another_bug     4.567989  1.918393e+07   \n",
              "\n",
              "     rating_min  speed_max  user_ride_quality_median  deviation_normal_count  \\\n",
              "269         0.1      187.0                  2.897126                     174   \n",
              "\n",
              "     user_uniq  \n",
              "269        173  "
            ],
            "text/html": [
              "\n",
              "  <div id=\"df-f6ee9c9e-436a-4169-8204-1ebc354fd9ce\">\n",
              "    <div class=\"colab-df-container\">\n",
              "      <div>\n",
              "<style scoped>\n",
              "    .dataframe tbody tr th:only-of-type {\n",
              "        vertical-align: middle;\n",
              "    }\n",
              "\n",
              "    .dataframe tbody tr th {\n",
              "        vertical-align: top;\n",
              "    }\n",
              "\n",
              "    .dataframe thead th {\n",
              "        text-align: right;\n",
              "    }\n",
              "</style>\n",
              "<table border=\"1\" class=\"dataframe\">\n",
              "  <thead>\n",
              "    <tr style=\"text-align: right;\">\n",
              "      <th></th>\n",
              "      <th>car_id</th>\n",
              "      <th>model</th>\n",
              "      <th>car_type</th>\n",
              "      <th>fuel_type</th>\n",
              "      <th>car_rating</th>\n",
              "      <th>year_to_start</th>\n",
              "      <th>riders</th>\n",
              "      <th>year_to_work</th>\n",
              "      <th>target_reg</th>\n",
              "      <th>target_class</th>\n",
              "      <th>mean_rating</th>\n",
              "      <th>distance_sum</th>\n",
              "      <th>rating_min</th>\n",
              "      <th>speed_max</th>\n",
              "      <th>user_ride_quality_median</th>\n",
              "      <th>deviation_normal_count</th>\n",
              "      <th>user_uniq</th>\n",
              "    </tr>\n",
              "  </thead>\n",
              "  <tbody>\n",
              "    <tr>\n",
              "      <th>269</th>\n",
              "      <td>s54993523h</td>\n",
              "      <td>Smart Coupe</td>\n",
              "      <td>economy</td>\n",
              "      <td>petrol</td>\n",
              "      <td>3.18</td>\n",
              "      <td>2015</td>\n",
              "      <td>78583</td>\n",
              "      <td>2015</td>\n",
              "      <td>58.08</td>\n",
              "      <td>another_bug</td>\n",
              "      <td>4.567989</td>\n",
              "      <td>1.918393e+07</td>\n",
              "      <td>0.1</td>\n",
              "      <td>187.0</td>\n",
              "      <td>2.897126</td>\n",
              "      <td>174</td>\n",
              "      <td>173</td>\n",
              "    </tr>\n",
              "  </tbody>\n",
              "</table>\n",
              "</div>\n",
              "      <button class=\"colab-df-convert\" onclick=\"convertToInteractive('df-f6ee9c9e-436a-4169-8204-1ebc354fd9ce')\"\n",
              "              title=\"Convert this dataframe to an interactive table.\"\n",
              "              style=\"display:none;\">\n",
              "        \n",
              "  <svg xmlns=\"http://www.w3.org/2000/svg\" height=\"24px\"viewBox=\"0 0 24 24\"\n",
              "       width=\"24px\">\n",
              "    <path d=\"M0 0h24v24H0V0z\" fill=\"none\"/>\n",
              "    <path d=\"M18.56 5.44l.94 2.06.94-2.06 2.06-.94-2.06-.94-.94-2.06-.94 2.06-2.06.94zm-11 1L8.5 8.5l.94-2.06 2.06-.94-2.06-.94L8.5 2.5l-.94 2.06-2.06.94zm10 10l.94 2.06.94-2.06 2.06-.94-2.06-.94-.94-2.06-.94 2.06-2.06.94z\"/><path d=\"M17.41 7.96l-1.37-1.37c-.4-.4-.92-.59-1.43-.59-.52 0-1.04.2-1.43.59L10.3 9.45l-7.72 7.72c-.78.78-.78 2.05 0 2.83L4 21.41c.39.39.9.59 1.41.59.51 0 1.02-.2 1.41-.59l7.78-7.78 2.81-2.81c.8-.78.8-2.07 0-2.86zM5.41 20L4 18.59l7.72-7.72 1.47 1.35L5.41 20z\"/>\n",
              "  </svg>\n",
              "      </button>\n",
              "      \n",
              "  <style>\n",
              "    .colab-df-container {\n",
              "      display:flex;\n",
              "      flex-wrap:wrap;\n",
              "      gap: 12px;\n",
              "    }\n",
              "\n",
              "    .colab-df-convert {\n",
              "      background-color: #E8F0FE;\n",
              "      border: none;\n",
              "      border-radius: 50%;\n",
              "      cursor: pointer;\n",
              "      display: none;\n",
              "      fill: #1967D2;\n",
              "      height: 32px;\n",
              "      padding: 0 0 0 0;\n",
              "      width: 32px;\n",
              "    }\n",
              "\n",
              "    .colab-df-convert:hover {\n",
              "      background-color: #E2EBFA;\n",
              "      box-shadow: 0px 1px 2px rgba(60, 64, 67, 0.3), 0px 1px 3px 1px rgba(60, 64, 67, 0.15);\n",
              "      fill: #174EA6;\n",
              "    }\n",
              "\n",
              "    [theme=dark] .colab-df-convert {\n",
              "      background-color: #3B4455;\n",
              "      fill: #D2E3FC;\n",
              "    }\n",
              "\n",
              "    [theme=dark] .colab-df-convert:hover {\n",
              "      background-color: #434B5C;\n",
              "      box-shadow: 0px 1px 3px 1px rgba(0, 0, 0, 0.15);\n",
              "      filter: drop-shadow(0px 1px 2px rgba(0, 0, 0, 0.3));\n",
              "      fill: #FFFFFF;\n",
              "    }\n",
              "  </style>\n",
              "\n",
              "      <script>\n",
              "        const buttonEl =\n",
              "          document.querySelector('#df-f6ee9c9e-436a-4169-8204-1ebc354fd9ce button.colab-df-convert');\n",
              "        buttonEl.style.display =\n",
              "          google.colab.kernel.accessAllowed ? 'block' : 'none';\n",
              "\n",
              "        async function convertToInteractive(key) {\n",
              "          const element = document.querySelector('#df-f6ee9c9e-436a-4169-8204-1ebc354fd9ce');\n",
              "          const dataTable =\n",
              "            await google.colab.kernel.invokeFunction('convertToInteractive',\n",
              "                                                     [key], {});\n",
              "          if (!dataTable) return;\n",
              "\n",
              "          const docLinkHtml = 'Like what you see? Visit the ' +\n",
              "            '<a target=\"_blank\" href=https://colab.research.google.com/notebooks/data_table.ipynb>data table notebook</a>'\n",
              "            + ' to learn more about interactive tables.';\n",
              "          element.innerHTML = '';\n",
              "          dataTable['output_type'] = 'display_data';\n",
              "          await google.colab.output.renderOutput(dataTable, element);\n",
              "          const docLink = document.createElement('div');\n",
              "          docLink.innerHTML = docLinkHtml;\n",
              "          element.appendChild(docLink);\n",
              "        }\n",
              "      </script>\n",
              "    </div>\n",
              "  </div>\n",
              "  "
            ]
          },
          "metadata": {}
        },
        {
          "output_type": "stream",
          "name": "stdout",
          "text": [
            "<class 'pandas.core.frame.DataFrame'>\n",
            "RangeIndex: 2337 entries, 0 to 2336\n",
            "Data columns (total 17 columns):\n",
            " #   Column                    Non-Null Count  Dtype  \n",
            "---  ------                    --------------  -----  \n",
            " 0   car_id                    2337 non-null   object \n",
            " 1   model                     2337 non-null   object \n",
            " 2   car_type                  2337 non-null   object \n",
            " 3   fuel_type                 2337 non-null   object \n",
            " 4   car_rating                2337 non-null   float64\n",
            " 5   year_to_start             2337 non-null   int64  \n",
            " 6   riders                    2337 non-null   int64  \n",
            " 7   year_to_work              2337 non-null   int64  \n",
            " 8   target_reg                2337 non-null   float64\n",
            " 9   target_class              2337 non-null   object \n",
            " 10  mean_rating               2337 non-null   float64\n",
            " 11  distance_sum              2337 non-null   float64\n",
            " 12  rating_min                2337 non-null   float64\n",
            " 13  speed_max                 2337 non-null   float64\n",
            " 14  user_ride_quality_median  2337 non-null   float64\n",
            " 15  deviation_normal_count    2337 non-null   int64  \n",
            " 16  user_uniq                 2337 non-null   int64  \n",
            "dtypes: float64(7), int64(5), object(5)\n",
            "memory usage: 310.5+ KB\n"
          ]
        }
      ],
      "source": [
        "train = pd.read_csv(\n",
        "    \"https://raw.githubusercontent.com/a-milenkin/Competitive_Data_Science/main/data/quickstart_train.csv\")\n",
        "\n",
        "display(train.sample())\n",
        "train.info()"
      ]
    },
    {
      "cell_type": "code",
      "execution_count": null,
      "metadata": {
        "colab": {
          "base_uri": "https://localhost:8080/",
          "height": 561
        },
        "id": "6GuaFcNVAvqM",
        "outputId": "f737bf05-bd20-444e-c35b-1f1fdb02a40f"
      },
      "outputs": [
        {
          "output_type": "display_data",
          "data": {
            "text/plain": [
              "        car_id    model car_type fuel_type  car_rating  year_to_start  riders  \\\n",
              "17  A22674788w  VW Polo  economy    petrol         4.4           2011    2760   \n",
              "\n",
              "    year_to_work  target_class  mean_rating  distance_sum  rating_min  \\\n",
              "17          2021  engine_check     4.540575  1.160652e+07         0.1   \n",
              "\n",
              "     speed_max  user_ride_quality_median  deviation_normal_count  user_uniq  \n",
              "17  123.103636                -13.129686                     174        170  "
            ],
            "text/html": [
              "\n",
              "  <div id=\"df-d466eb82-798c-4ded-bdbc-be030ec6c02d\">\n",
              "    <div class=\"colab-df-container\">\n",
              "      <div>\n",
              "<style scoped>\n",
              "    .dataframe tbody tr th:only-of-type {\n",
              "        vertical-align: middle;\n",
              "    }\n",
              "\n",
              "    .dataframe tbody tr th {\n",
              "        vertical-align: top;\n",
              "    }\n",
              "\n",
              "    .dataframe thead th {\n",
              "        text-align: right;\n",
              "    }\n",
              "</style>\n",
              "<table border=\"1\" class=\"dataframe\">\n",
              "  <thead>\n",
              "    <tr style=\"text-align: right;\">\n",
              "      <th></th>\n",
              "      <th>car_id</th>\n",
              "      <th>model</th>\n",
              "      <th>car_type</th>\n",
              "      <th>fuel_type</th>\n",
              "      <th>car_rating</th>\n",
              "      <th>year_to_start</th>\n",
              "      <th>riders</th>\n",
              "      <th>year_to_work</th>\n",
              "      <th>target_class</th>\n",
              "      <th>mean_rating</th>\n",
              "      <th>distance_sum</th>\n",
              "      <th>rating_min</th>\n",
              "      <th>speed_max</th>\n",
              "      <th>user_ride_quality_median</th>\n",
              "      <th>deviation_normal_count</th>\n",
              "      <th>user_uniq</th>\n",
              "    </tr>\n",
              "  </thead>\n",
              "  <tbody>\n",
              "    <tr>\n",
              "      <th>17</th>\n",
              "      <td>A22674788w</td>\n",
              "      <td>VW Polo</td>\n",
              "      <td>economy</td>\n",
              "      <td>petrol</td>\n",
              "      <td>4.4</td>\n",
              "      <td>2011</td>\n",
              "      <td>2760</td>\n",
              "      <td>2021</td>\n",
              "      <td>engine_check</td>\n",
              "      <td>4.540575</td>\n",
              "      <td>1.160652e+07</td>\n",
              "      <td>0.1</td>\n",
              "      <td>123.103636</td>\n",
              "      <td>-13.129686</td>\n",
              "      <td>174</td>\n",
              "      <td>170</td>\n",
              "    </tr>\n",
              "  </tbody>\n",
              "</table>\n",
              "</div>\n",
              "      <button class=\"colab-df-convert\" onclick=\"convertToInteractive('df-d466eb82-798c-4ded-bdbc-be030ec6c02d')\"\n",
              "              title=\"Convert this dataframe to an interactive table.\"\n",
              "              style=\"display:none;\">\n",
              "        \n",
              "  <svg xmlns=\"http://www.w3.org/2000/svg\" height=\"24px\"viewBox=\"0 0 24 24\"\n",
              "       width=\"24px\">\n",
              "    <path d=\"M0 0h24v24H0V0z\" fill=\"none\"/>\n",
              "    <path d=\"M18.56 5.44l.94 2.06.94-2.06 2.06-.94-2.06-.94-.94-2.06-.94 2.06-2.06.94zm-11 1L8.5 8.5l.94-2.06 2.06-.94-2.06-.94L8.5 2.5l-.94 2.06-2.06.94zm10 10l.94 2.06.94-2.06 2.06-.94-2.06-.94-.94-2.06-.94 2.06-2.06.94z\"/><path d=\"M17.41 7.96l-1.37-1.37c-.4-.4-.92-.59-1.43-.59-.52 0-1.04.2-1.43.59L10.3 9.45l-7.72 7.72c-.78.78-.78 2.05 0 2.83L4 21.41c.39.39.9.59 1.41.59.51 0 1.02-.2 1.41-.59l7.78-7.78 2.81-2.81c.8-.78.8-2.07 0-2.86zM5.41 20L4 18.59l7.72-7.72 1.47 1.35L5.41 20z\"/>\n",
              "  </svg>\n",
              "      </button>\n",
              "      \n",
              "  <style>\n",
              "    .colab-df-container {\n",
              "      display:flex;\n",
              "      flex-wrap:wrap;\n",
              "      gap: 12px;\n",
              "    }\n",
              "\n",
              "    .colab-df-convert {\n",
              "      background-color: #E8F0FE;\n",
              "      border: none;\n",
              "      border-radius: 50%;\n",
              "      cursor: pointer;\n",
              "      display: none;\n",
              "      fill: #1967D2;\n",
              "      height: 32px;\n",
              "      padding: 0 0 0 0;\n",
              "      width: 32px;\n",
              "    }\n",
              "\n",
              "    .colab-df-convert:hover {\n",
              "      background-color: #E2EBFA;\n",
              "      box-shadow: 0px 1px 2px rgba(60, 64, 67, 0.3), 0px 1px 3px 1px rgba(60, 64, 67, 0.15);\n",
              "      fill: #174EA6;\n",
              "    }\n",
              "\n",
              "    [theme=dark] .colab-df-convert {\n",
              "      background-color: #3B4455;\n",
              "      fill: #D2E3FC;\n",
              "    }\n",
              "\n",
              "    [theme=dark] .colab-df-convert:hover {\n",
              "      background-color: #434B5C;\n",
              "      box-shadow: 0px 1px 3px 1px rgba(0, 0, 0, 0.15);\n",
              "      filter: drop-shadow(0px 1px 2px rgba(0, 0, 0, 0.3));\n",
              "      fill: #FFFFFF;\n",
              "    }\n",
              "  </style>\n",
              "\n",
              "      <script>\n",
              "        const buttonEl =\n",
              "          document.querySelector('#df-d466eb82-798c-4ded-bdbc-be030ec6c02d button.colab-df-convert');\n",
              "        buttonEl.style.display =\n",
              "          google.colab.kernel.accessAllowed ? 'block' : 'none';\n",
              "\n",
              "        async function convertToInteractive(key) {\n",
              "          const element = document.querySelector('#df-d466eb82-798c-4ded-bdbc-be030ec6c02d');\n",
              "          const dataTable =\n",
              "            await google.colab.kernel.invokeFunction('convertToInteractive',\n",
              "                                                     [key], {});\n",
              "          if (!dataTable) return;\n",
              "\n",
              "          const docLinkHtml = 'Like what you see? Visit the ' +\n",
              "            '<a target=\"_blank\" href=https://colab.research.google.com/notebooks/data_table.ipynb>data table notebook</a>'\n",
              "            + ' to learn more about interactive tables.';\n",
              "          element.innerHTML = '';\n",
              "          dataTable['output_type'] = 'display_data';\n",
              "          await google.colab.output.renderOutput(dataTable, element);\n",
              "          const docLink = document.createElement('div');\n",
              "          docLink.innerHTML = docLinkHtml;\n",
              "          element.appendChild(docLink);\n",
              "        }\n",
              "      </script>\n",
              "    </div>\n",
              "  </div>\n",
              "  "
            ]
          },
          "metadata": {}
        },
        {
          "output_type": "stream",
          "name": "stdout",
          "text": [
            "<class 'pandas.core.frame.DataFrame'>\n",
            "RangeIndex: 1913 entries, 0 to 1912\n",
            "Data columns (total 16 columns):\n",
            " #   Column                    Non-Null Count  Dtype  \n",
            "---  ------                    --------------  -----  \n",
            " 0   car_id                    1913 non-null   object \n",
            " 1   model                     1913 non-null   object \n",
            " 2   car_type                  1913 non-null   object \n",
            " 3   fuel_type                 1913 non-null   object \n",
            " 4   car_rating                1913 non-null   float64\n",
            " 5   year_to_start             1913 non-null   int64  \n",
            " 6   riders                    1913 non-null   int64  \n",
            " 7   year_to_work              1913 non-null   int64  \n",
            " 8   target_class              1913 non-null   object \n",
            " 9   mean_rating               1913 non-null   float64\n",
            " 10  distance_sum              1913 non-null   float64\n",
            " 11  rating_min                1913 non-null   float64\n",
            " 12  speed_max                 1913 non-null   float64\n",
            " 13  user_ride_quality_median  1913 non-null   float64\n",
            " 14  deviation_normal_count    1913 non-null   int64  \n",
            " 15  user_uniq                 1913 non-null   int64  \n",
            "dtypes: float64(6), int64(5), object(5)\n",
            "memory usage: 239.2+ KB\n"
          ]
        }
      ],
      "source": [
        "test = pd.read_csv(\n",
        "    \"https://raw.githubusercontent.com/a-milenkin/Competitive_Data_Science/main/data/quickstart_test.csv\")\n",
        "\n",
        "display(test.sample())\n",
        "test.info()"
      ]
    },
    {
      "cell_type": "code",
      "execution_count": null,
      "metadata": {
        "colab": {
          "base_uri": "https://localhost:8080/",
          "height": 364
        },
        "id": "2S33up9OTi3V",
        "outputId": "bdd473ca-5f75-4ac2-9f0d-e73e7f5881ab"
      },
      "outputs": [
        {
          "output_type": "execute_result",
          "data": {
            "text/plain": [
              "        car_rating  year_to_start         riders  year_to_work   target_reg  \\\n",
              "count  2337.000000    2337.000000    2337.000000   2337.000000  2337.000000   \n",
              "mean      4.354292    2014.040650   63711.443731   2018.069748    44.947381   \n",
              "std       0.996954       1.685852   33755.012096      2.159484    17.647533   \n",
              "min       0.980000    2011.000000      23.000000   2014.000000    17.640000   \n",
              "25%       3.740000    2013.000000   41053.000000   2016.000000    31.570000   \n",
              "50%       4.360000    2014.000000   64415.000000   2018.000000    40.010000   \n",
              "75%       5.000000    2015.000000   86515.000000   2020.000000    54.720000   \n",
              "max       8.900000    2017.000000  142862.000000   2022.000000   141.130000   \n",
              "\n",
              "       mean_rating  distance_sum   rating_min    speed_max  \\\n",
              "count  2337.000000  2.337000e+03  2337.000000  2337.000000   \n",
              "mean      4.478831  1.356912e+07     0.138870   160.984884   \n",
              "std       0.418588  4.253209e+06     0.163978    33.211161   \n",
              "min       3.529885  1.478866e+06     0.000000    91.423508   \n",
              "25%       4.155747  1.058758e+07     0.100000   123.609208   \n",
              "50%       4.442989  1.321852e+07     0.100000   172.435742   \n",
              "75%       4.675345  1.631788e+07     0.100000   188.597411   \n",
              "max       5.700747  3.119785e+07     1.500000   209.982840   \n",
              "\n",
              "       user_ride_quality_median  deviation_normal_count    user_uniq  \n",
              "count               2337.000000                  2337.0  2337.000000  \n",
              "mean                  -0.329339                   174.0   171.624305  \n",
              "std                    9.581800                     0.0     3.158088  \n",
              "min                  -38.116345                   174.0   136.000000  \n",
              "25%                   -6.141569                   174.0   171.000000  \n",
              "50%                   -0.195860                   174.0   172.000000  \n",
              "75%                    5.370422                   174.0   173.000000  \n",
              "max                   35.770493                   174.0   174.000000  "
            ],
            "text/html": [
              "\n",
              "  <div id=\"df-012e0f69-d874-48d9-aaee-163e4e2d3c84\">\n",
              "    <div class=\"colab-df-container\">\n",
              "      <div>\n",
              "<style scoped>\n",
              "    .dataframe tbody tr th:only-of-type {\n",
              "        vertical-align: middle;\n",
              "    }\n",
              "\n",
              "    .dataframe tbody tr th {\n",
              "        vertical-align: top;\n",
              "    }\n",
              "\n",
              "    .dataframe thead th {\n",
              "        text-align: right;\n",
              "    }\n",
              "</style>\n",
              "<table border=\"1\" class=\"dataframe\">\n",
              "  <thead>\n",
              "    <tr style=\"text-align: right;\">\n",
              "      <th></th>\n",
              "      <th>car_rating</th>\n",
              "      <th>year_to_start</th>\n",
              "      <th>riders</th>\n",
              "      <th>year_to_work</th>\n",
              "      <th>target_reg</th>\n",
              "      <th>mean_rating</th>\n",
              "      <th>distance_sum</th>\n",
              "      <th>rating_min</th>\n",
              "      <th>speed_max</th>\n",
              "      <th>user_ride_quality_median</th>\n",
              "      <th>deviation_normal_count</th>\n",
              "      <th>user_uniq</th>\n",
              "    </tr>\n",
              "  </thead>\n",
              "  <tbody>\n",
              "    <tr>\n",
              "      <th>count</th>\n",
              "      <td>2337.000000</td>\n",
              "      <td>2337.000000</td>\n",
              "      <td>2337.000000</td>\n",
              "      <td>2337.000000</td>\n",
              "      <td>2337.000000</td>\n",
              "      <td>2337.000000</td>\n",
              "      <td>2.337000e+03</td>\n",
              "      <td>2337.000000</td>\n",
              "      <td>2337.000000</td>\n",
              "      <td>2337.000000</td>\n",
              "      <td>2337.0</td>\n",
              "      <td>2337.000000</td>\n",
              "    </tr>\n",
              "    <tr>\n",
              "      <th>mean</th>\n",
              "      <td>4.354292</td>\n",
              "      <td>2014.040650</td>\n",
              "      <td>63711.443731</td>\n",
              "      <td>2018.069748</td>\n",
              "      <td>44.947381</td>\n",
              "      <td>4.478831</td>\n",
              "      <td>1.356912e+07</td>\n",
              "      <td>0.138870</td>\n",
              "      <td>160.984884</td>\n",
              "      <td>-0.329339</td>\n",
              "      <td>174.0</td>\n",
              "      <td>171.624305</td>\n",
              "    </tr>\n",
              "    <tr>\n",
              "      <th>std</th>\n",
              "      <td>0.996954</td>\n",
              "      <td>1.685852</td>\n",
              "      <td>33755.012096</td>\n",
              "      <td>2.159484</td>\n",
              "      <td>17.647533</td>\n",
              "      <td>0.418588</td>\n",
              "      <td>4.253209e+06</td>\n",
              "      <td>0.163978</td>\n",
              "      <td>33.211161</td>\n",
              "      <td>9.581800</td>\n",
              "      <td>0.0</td>\n",
              "      <td>3.158088</td>\n",
              "    </tr>\n",
              "    <tr>\n",
              "      <th>min</th>\n",
              "      <td>0.980000</td>\n",
              "      <td>2011.000000</td>\n",
              "      <td>23.000000</td>\n",
              "      <td>2014.000000</td>\n",
              "      <td>17.640000</td>\n",
              "      <td>3.529885</td>\n",
              "      <td>1.478866e+06</td>\n",
              "      <td>0.000000</td>\n",
              "      <td>91.423508</td>\n",
              "      <td>-38.116345</td>\n",
              "      <td>174.0</td>\n",
              "      <td>136.000000</td>\n",
              "    </tr>\n",
              "    <tr>\n",
              "      <th>25%</th>\n",
              "      <td>3.740000</td>\n",
              "      <td>2013.000000</td>\n",
              "      <td>41053.000000</td>\n",
              "      <td>2016.000000</td>\n",
              "      <td>31.570000</td>\n",
              "      <td>4.155747</td>\n",
              "      <td>1.058758e+07</td>\n",
              "      <td>0.100000</td>\n",
              "      <td>123.609208</td>\n",
              "      <td>-6.141569</td>\n",
              "      <td>174.0</td>\n",
              "      <td>171.000000</td>\n",
              "    </tr>\n",
              "    <tr>\n",
              "      <th>50%</th>\n",
              "      <td>4.360000</td>\n",
              "      <td>2014.000000</td>\n",
              "      <td>64415.000000</td>\n",
              "      <td>2018.000000</td>\n",
              "      <td>40.010000</td>\n",
              "      <td>4.442989</td>\n",
              "      <td>1.321852e+07</td>\n",
              "      <td>0.100000</td>\n",
              "      <td>172.435742</td>\n",
              "      <td>-0.195860</td>\n",
              "      <td>174.0</td>\n",
              "      <td>172.000000</td>\n",
              "    </tr>\n",
              "    <tr>\n",
              "      <th>75%</th>\n",
              "      <td>5.000000</td>\n",
              "      <td>2015.000000</td>\n",
              "      <td>86515.000000</td>\n",
              "      <td>2020.000000</td>\n",
              "      <td>54.720000</td>\n",
              "      <td>4.675345</td>\n",
              "      <td>1.631788e+07</td>\n",
              "      <td>0.100000</td>\n",
              "      <td>188.597411</td>\n",
              "      <td>5.370422</td>\n",
              "      <td>174.0</td>\n",
              "      <td>173.000000</td>\n",
              "    </tr>\n",
              "    <tr>\n",
              "      <th>max</th>\n",
              "      <td>8.900000</td>\n",
              "      <td>2017.000000</td>\n",
              "      <td>142862.000000</td>\n",
              "      <td>2022.000000</td>\n",
              "      <td>141.130000</td>\n",
              "      <td>5.700747</td>\n",
              "      <td>3.119785e+07</td>\n",
              "      <td>1.500000</td>\n",
              "      <td>209.982840</td>\n",
              "      <td>35.770493</td>\n",
              "      <td>174.0</td>\n",
              "      <td>174.000000</td>\n",
              "    </tr>\n",
              "  </tbody>\n",
              "</table>\n",
              "</div>\n",
              "      <button class=\"colab-df-convert\" onclick=\"convertToInteractive('df-012e0f69-d874-48d9-aaee-163e4e2d3c84')\"\n",
              "              title=\"Convert this dataframe to an interactive table.\"\n",
              "              style=\"display:none;\">\n",
              "        \n",
              "  <svg xmlns=\"http://www.w3.org/2000/svg\" height=\"24px\"viewBox=\"0 0 24 24\"\n",
              "       width=\"24px\">\n",
              "    <path d=\"M0 0h24v24H0V0z\" fill=\"none\"/>\n",
              "    <path d=\"M18.56 5.44l.94 2.06.94-2.06 2.06-.94-2.06-.94-.94-2.06-.94 2.06-2.06.94zm-11 1L8.5 8.5l.94-2.06 2.06-.94-2.06-.94L8.5 2.5l-.94 2.06-2.06.94zm10 10l.94 2.06.94-2.06 2.06-.94-2.06-.94-.94-2.06-.94 2.06-2.06.94z\"/><path d=\"M17.41 7.96l-1.37-1.37c-.4-.4-.92-.59-1.43-.59-.52 0-1.04.2-1.43.59L10.3 9.45l-7.72 7.72c-.78.78-.78 2.05 0 2.83L4 21.41c.39.39.9.59 1.41.59.51 0 1.02-.2 1.41-.59l7.78-7.78 2.81-2.81c.8-.78.8-2.07 0-2.86zM5.41 20L4 18.59l7.72-7.72 1.47 1.35L5.41 20z\"/>\n",
              "  </svg>\n",
              "      </button>\n",
              "      \n",
              "  <style>\n",
              "    .colab-df-container {\n",
              "      display:flex;\n",
              "      flex-wrap:wrap;\n",
              "      gap: 12px;\n",
              "    }\n",
              "\n",
              "    .colab-df-convert {\n",
              "      background-color: #E8F0FE;\n",
              "      border: none;\n",
              "      border-radius: 50%;\n",
              "      cursor: pointer;\n",
              "      display: none;\n",
              "      fill: #1967D2;\n",
              "      height: 32px;\n",
              "      padding: 0 0 0 0;\n",
              "      width: 32px;\n",
              "    }\n",
              "\n",
              "    .colab-df-convert:hover {\n",
              "      background-color: #E2EBFA;\n",
              "      box-shadow: 0px 1px 2px rgba(60, 64, 67, 0.3), 0px 1px 3px 1px rgba(60, 64, 67, 0.15);\n",
              "      fill: #174EA6;\n",
              "    }\n",
              "\n",
              "    [theme=dark] .colab-df-convert {\n",
              "      background-color: #3B4455;\n",
              "      fill: #D2E3FC;\n",
              "    }\n",
              "\n",
              "    [theme=dark] .colab-df-convert:hover {\n",
              "      background-color: #434B5C;\n",
              "      box-shadow: 0px 1px 3px 1px rgba(0, 0, 0, 0.15);\n",
              "      filter: drop-shadow(0px 1px 2px rgba(0, 0, 0, 0.3));\n",
              "      fill: #FFFFFF;\n",
              "    }\n",
              "  </style>\n",
              "\n",
              "      <script>\n",
              "        const buttonEl =\n",
              "          document.querySelector('#df-012e0f69-d874-48d9-aaee-163e4e2d3c84 button.colab-df-convert');\n",
              "        buttonEl.style.display =\n",
              "          google.colab.kernel.accessAllowed ? 'block' : 'none';\n",
              "\n",
              "        async function convertToInteractive(key) {\n",
              "          const element = document.querySelector('#df-012e0f69-d874-48d9-aaee-163e4e2d3c84');\n",
              "          const dataTable =\n",
              "            await google.colab.kernel.invokeFunction('convertToInteractive',\n",
              "                                                     [key], {});\n",
              "          if (!dataTable) return;\n",
              "\n",
              "          const docLinkHtml = 'Like what you see? Visit the ' +\n",
              "            '<a target=\"_blank\" href=https://colab.research.google.com/notebooks/data_table.ipynb>data table notebook</a>'\n",
              "            + ' to learn more about interactive tables.';\n",
              "          element.innerHTML = '';\n",
              "          dataTable['output_type'] = 'display_data';\n",
              "          await google.colab.output.renderOutput(dataTable, element);\n",
              "          const docLink = document.createElement('div');\n",
              "          docLink.innerHTML = docLinkHtml;\n",
              "          element.appendChild(docLink);\n",
              "        }\n",
              "      </script>\n",
              "    </div>\n",
              "  </div>\n",
              "  "
            ]
          },
          "metadata": {},
          "execution_count": 39
        }
      ],
      "source": [
        "train.describe()"
      ]
    },
    {
      "cell_type": "code",
      "execution_count": null,
      "metadata": {
        "colab": {
          "base_uri": "https://localhost:8080/",
          "height": 175
        },
        "id": "yLeuuKCAPld7",
        "outputId": "9640a0b2-512b-455c-ec53-628eb5609ccb"
      },
      "outputs": [
        {
          "output_type": "execute_result",
          "data": {
            "text/plain": [
              "            car_id            model car_type fuel_type     target_class\n",
              "count         2337             2337     2337      2337             2337\n",
              "unique        2337               26        4         2                9\n",
              "top     y13744087j  Hyundai Solaris  economy    petrol  engine_overheat\n",
              "freq             1              161     1536      2289              289"
            ],
            "text/html": [
              "\n",
              "  <div id=\"df-400e205b-9d2a-46b8-bf91-33aa24642374\">\n",
              "    <div class=\"colab-df-container\">\n",
              "      <div>\n",
              "<style scoped>\n",
              "    .dataframe tbody tr th:only-of-type {\n",
              "        vertical-align: middle;\n",
              "    }\n",
              "\n",
              "    .dataframe tbody tr th {\n",
              "        vertical-align: top;\n",
              "    }\n",
              "\n",
              "    .dataframe thead th {\n",
              "        text-align: right;\n",
              "    }\n",
              "</style>\n",
              "<table border=\"1\" class=\"dataframe\">\n",
              "  <thead>\n",
              "    <tr style=\"text-align: right;\">\n",
              "      <th></th>\n",
              "      <th>car_id</th>\n",
              "      <th>model</th>\n",
              "      <th>car_type</th>\n",
              "      <th>fuel_type</th>\n",
              "      <th>target_class</th>\n",
              "    </tr>\n",
              "  </thead>\n",
              "  <tbody>\n",
              "    <tr>\n",
              "      <th>count</th>\n",
              "      <td>2337</td>\n",
              "      <td>2337</td>\n",
              "      <td>2337</td>\n",
              "      <td>2337</td>\n",
              "      <td>2337</td>\n",
              "    </tr>\n",
              "    <tr>\n",
              "      <th>unique</th>\n",
              "      <td>2337</td>\n",
              "      <td>26</td>\n",
              "      <td>4</td>\n",
              "      <td>2</td>\n",
              "      <td>9</td>\n",
              "    </tr>\n",
              "    <tr>\n",
              "      <th>top</th>\n",
              "      <td>y13744087j</td>\n",
              "      <td>Hyundai Solaris</td>\n",
              "      <td>economy</td>\n",
              "      <td>petrol</td>\n",
              "      <td>engine_overheat</td>\n",
              "    </tr>\n",
              "    <tr>\n",
              "      <th>freq</th>\n",
              "      <td>1</td>\n",
              "      <td>161</td>\n",
              "      <td>1536</td>\n",
              "      <td>2289</td>\n",
              "      <td>289</td>\n",
              "    </tr>\n",
              "  </tbody>\n",
              "</table>\n",
              "</div>\n",
              "      <button class=\"colab-df-convert\" onclick=\"convertToInteractive('df-400e205b-9d2a-46b8-bf91-33aa24642374')\"\n",
              "              title=\"Convert this dataframe to an interactive table.\"\n",
              "              style=\"display:none;\">\n",
              "        \n",
              "  <svg xmlns=\"http://www.w3.org/2000/svg\" height=\"24px\"viewBox=\"0 0 24 24\"\n",
              "       width=\"24px\">\n",
              "    <path d=\"M0 0h24v24H0V0z\" fill=\"none\"/>\n",
              "    <path d=\"M18.56 5.44l.94 2.06.94-2.06 2.06-.94-2.06-.94-.94-2.06-.94 2.06-2.06.94zm-11 1L8.5 8.5l.94-2.06 2.06-.94-2.06-.94L8.5 2.5l-.94 2.06-2.06.94zm10 10l.94 2.06.94-2.06 2.06-.94-2.06-.94-.94-2.06-.94 2.06-2.06.94z\"/><path d=\"M17.41 7.96l-1.37-1.37c-.4-.4-.92-.59-1.43-.59-.52 0-1.04.2-1.43.59L10.3 9.45l-7.72 7.72c-.78.78-.78 2.05 0 2.83L4 21.41c.39.39.9.59 1.41.59.51 0 1.02-.2 1.41-.59l7.78-7.78 2.81-2.81c.8-.78.8-2.07 0-2.86zM5.41 20L4 18.59l7.72-7.72 1.47 1.35L5.41 20z\"/>\n",
              "  </svg>\n",
              "      </button>\n",
              "      \n",
              "  <style>\n",
              "    .colab-df-container {\n",
              "      display:flex;\n",
              "      flex-wrap:wrap;\n",
              "      gap: 12px;\n",
              "    }\n",
              "\n",
              "    .colab-df-convert {\n",
              "      background-color: #E8F0FE;\n",
              "      border: none;\n",
              "      border-radius: 50%;\n",
              "      cursor: pointer;\n",
              "      display: none;\n",
              "      fill: #1967D2;\n",
              "      height: 32px;\n",
              "      padding: 0 0 0 0;\n",
              "      width: 32px;\n",
              "    }\n",
              "\n",
              "    .colab-df-convert:hover {\n",
              "      background-color: #E2EBFA;\n",
              "      box-shadow: 0px 1px 2px rgba(60, 64, 67, 0.3), 0px 1px 3px 1px rgba(60, 64, 67, 0.15);\n",
              "      fill: #174EA6;\n",
              "    }\n",
              "\n",
              "    [theme=dark] .colab-df-convert {\n",
              "      background-color: #3B4455;\n",
              "      fill: #D2E3FC;\n",
              "    }\n",
              "\n",
              "    [theme=dark] .colab-df-convert:hover {\n",
              "      background-color: #434B5C;\n",
              "      box-shadow: 0px 1px 3px 1px rgba(0, 0, 0, 0.15);\n",
              "      filter: drop-shadow(0px 1px 2px rgba(0, 0, 0, 0.3));\n",
              "      fill: #FFFFFF;\n",
              "    }\n",
              "  </style>\n",
              "\n",
              "      <script>\n",
              "        const buttonEl =\n",
              "          document.querySelector('#df-400e205b-9d2a-46b8-bf91-33aa24642374 button.colab-df-convert');\n",
              "        buttonEl.style.display =\n",
              "          google.colab.kernel.accessAllowed ? 'block' : 'none';\n",
              "\n",
              "        async function convertToInteractive(key) {\n",
              "          const element = document.querySelector('#df-400e205b-9d2a-46b8-bf91-33aa24642374');\n",
              "          const dataTable =\n",
              "            await google.colab.kernel.invokeFunction('convertToInteractive',\n",
              "                                                     [key], {});\n",
              "          if (!dataTable) return;\n",
              "\n",
              "          const docLinkHtml = 'Like what you see? Visit the ' +\n",
              "            '<a target=\"_blank\" href=https://colab.research.google.com/notebooks/data_table.ipynb>data table notebook</a>'\n",
              "            + ' to learn more about interactive tables.';\n",
              "          element.innerHTML = '';\n",
              "          dataTable['output_type'] = 'display_data';\n",
              "          await google.colab.output.renderOutput(dataTable, element);\n",
              "          const docLink = document.createElement('div');\n",
              "          docLink.innerHTML = docLinkHtml;\n",
              "          element.appendChild(docLink);\n",
              "        }\n",
              "      </script>\n",
              "    </div>\n",
              "  </div>\n",
              "  "
            ]
          },
          "metadata": {},
          "execution_count": 40
        }
      ],
      "source": [
        "train.describe(include=['object'])"
      ]
    },
    {
      "cell_type": "markdown",
      "metadata": {
        "id": "L3dpqKKA7b-K"
      },
      "source": [
        "Как уже видели в прошлых заданиях - данные без пропусков, без сильных выбросов.\n",
        "\n",
        "Далее зафиксируем random_state, обозначим столбцы для удаления, категориальные столбцы, немного преобразуем датасеты."
      ]
    },
    {
      "cell_type": "code",
      "execution_count": null,
      "metadata": {
        "id": "urU4gBHqO7Dv"
      },
      "outputs": [],
      "source": [
        "random_state = 73"
      ]
    },
    {
      "cell_type": "code",
      "execution_count": null,
      "metadata": {
        "colab": {
          "base_uri": "https://localhost:8080/"
        },
        "id": "c3Ez6ksEA1RE",
        "outputId": "79c1b6b2-a6dd-490d-b53d-7da594374417"
      },
      "outputs": [
        {
          "output_type": "stream",
          "name": "stdout",
          "text": [
            "cat_features : 3 ['car_type', 'fuel_type', 'model']\n",
            "num_features : 10 ['car_rating', 'year_to_start', 'riders', 'year_to_work', 'mean_rating', 'distance_sum', 'rating_min', 'speed_max', 'user_ride_quality_median', 'user_uniq']\n",
            "targets ['target_reg', 'target_class']\n"
          ]
        }
      ],
      "source": [
        "drop_cols = ['car_id', 'target_reg', 'deviation_normal_count', 'target_class']\n",
        "targets = ['target_reg', 'target_class']\n",
        "cat_features = ['car_type', 'fuel_type', 'model']\n",
        "\n",
        "filtered_features = [i for i in train.columns if (i not in targets and i not in drop_cols)]\n",
        "num_features = [i for i in filtered_features if i not in cat_features]\n",
        "\n",
        "print('cat_features :', len(cat_features), cat_features)\n",
        "print('num_features :', len(num_features), num_features)\n",
        "print('targets', targets)"
      ]
    },
    {
      "cell_type": "code",
      "execution_count": null,
      "metadata": {
        "colab": {
          "base_uri": "https://localhost:8080/"
        },
        "id": "oM7EsXmHO9aT",
        "outputId": "91fc56a9-d4a4-4ee1-d18e-02470a5a2541"
      },
      "outputs": [
        {
          "output_type": "stream",
          "name": "stdout",
          "text": [
            "cat_features_index : 3 [0, 1, 2]\n"
          ]
        }
      ],
      "source": [
        "X = train.drop(drop_cols, axis=1, errors=\"ignore\")\n",
        "y = train[\"target_reg\"]\n",
        "test_df = test.drop(drop_cols, axis=1, errors=\"ignore\")\n",
        "\n",
        "cat_features_index = [i for i in range(X.shape[1]) if X.columns[i] in cat_features]\n",
        "print('cat_features_index :', len(cat_features_index), cat_features_index)\n",
        "\n",
        "for col in cat_features:\n",
        "    X[col] = X[col].astype('category')\n",
        "    test_df[col] = test_df[col].astype('category')\n",
        "\n",
        "#X.info()\n",
        "#test_df.info()"
      ]
    },
    {
      "cell_type": "markdown",
      "metadata": {
        "id": "6DlSmJPN7b-L"
      },
      "source": [
        "Была попытка удалить имеющиеся фичи, добавить новых фичей, после добавления новых удалить сильно коррелирующие фичи - результата это не принесло. Оставлю часть для истории."
      ]
    },
    {
      "cell_type": "code",
      "execution_count": null,
      "metadata": {
        "id": "IGxeQMyyld9A"
      },
      "outputs": [],
      "source": [
        "year_today = 2022\n",
        "drop_cols_feat = ['year_to_start', 'year_to_work', ] #'riders', 'yts', 'ytw', 'distance_sum', 'speed_max', 'mean_riders_year']\n",
        "X_feat = X.copy()\n",
        "X_feat['yts'] = year_today + 1 - X_feat['year_to_work']  # годы работы в автопарке\n",
        "X_feat['ytw'] = year_today + 1 - X_feat['year_to_start']  # лет эксплуатации всего\n",
        "\n",
        "X_feat['mean_riders_year'] = X_feat['riders'] / X_feat['yts']\n",
        "X_feat['mean_distance_year'] = X_feat['distance_sum'] / X_feat['yts']\n",
        "X_feat['distance_riders'] = X_feat['distance_sum'] / X_feat['riders']\n",
        "X_feat['distance_speed_max'] = X_feat['distance_sum'] / X_feat['speed_max']\n",
        "# X_feat['distance_riders_year'] = X_feat['distance_sum']/X_feat['riders']/X_feat['yts']\n",
        "# X_feat['distance_speed_max_year'] = X_feat['distance_sum']/X_feat['speed_max']/X_feat['yts']\n",
        "X_feat = X_feat.drop(drop_cols_feat, axis=1)\n",
        "\n",
        "test_feat = test.copy()\n",
        "test_feat = test_feat.drop('car_id', axis=1, errors=\"ignore\")\n",
        "test_feat['yts'] = year_today+1 - test_feat['year_to_work']  # годы работы в автопарке\n",
        "test_feat['ytw'] = year_today+1 - test_feat['year_to_start']  # лет эксплуатации всего\n",
        "\n",
        "test_feat['mean_riders_year'] = test_feat['riders'] / test_feat['yts']\n",
        "test_feat['mean_distance_year'] = test_feat['distance_sum'] / test_feat['yts']\n",
        "test_feat['distance_riders'] = test_feat['distance_sum'] / test_feat['riders']\n",
        "test_feat['distance_speed_max'] = test_feat['distance_sum'] / test_feat['speed_max']\n",
        "# test_feat['distance_riders_year'] = test_feat['distance_sum']/test_feat['riders']/test_feat['yts']\n",
        "# test_feat['distance_speed_max_year'] =test_feat['distance_sum']/test_feat['speed_max']/test_feat['yts']\n",
        "test_feat = test_feat.drop(drop_cols_feat, axis=1)"
      ]
    },
    {
      "cell_type": "code",
      "execution_count": null,
      "metadata": {
        "colab": {
          "base_uri": "https://localhost:8080/",
          "height": 1000
        },
        "id": "CCB_8F3mnZGH",
        "outputId": "e0431510-13e2-4502-c891-e5eab2258632"
      },
      "outputs": [
        {
          "output_type": "display_data",
          "data": {
            "text/plain": [
              "<Figure size 2500x1000 with 2 Axes>"
            ],
            "image/png": "[encoded data removed]"
          },
          "metadata": {}
        }
      ],
      "source": [
        "sns.set_style(\"whitegrid\")\n",
        "sns.set(rc={'figure.figsize': (25, 10)})\n",
        "\n",
        "mask = np.triu(np.ones_like(X_feat.corr(numeric_only=True), dtype=bool))\n",
        "\n",
        "heatmap = sns.heatmap(\n",
        "    X_feat.corr(numeric_only=True).round(2),\n",
        "    annot=True,\n",
        "    square=True,\n",
        "    cmap=\"BrBG\",\n",
        "    cbar_kws={\"fraction\": 0.01},\n",
        "    linewidth=1,\n",
        "    annot_kws={\"fontsize\": 15},\n",
        "    mask=mask,)\n",
        "\n",
        "heatmap.set_title(\n",
        "    \"Тепловая карта корреляции\", fontdict={\"fontsize\": 20}, pad=16);"
      ]
    },
    {
      "cell_type": "markdown",
      "metadata": {
        "id": "Byfor2cI7b-L"
      },
      "source": [
        "Напишем функции для подачи обучающего датасета и тестового."
      ]
    },
    {
      "cell_type": "code",
      "execution_count": null,
      "metadata": {
        "id": "EdBpi4of7b-L"
      },
      "outputs": [],
      "source": [
        "train_get_data = pd.read_csv(\n",
        "    \"https://raw.githubusercontent.com/a-milenkin/Competitive_Data_Science/main/data/quickstart_train.csv\")\n",
        "\n",
        "def get_data(pool=False, le=False, matrix=False, ohe=False, full=False):\n",
        "    \"\"\"Получение обучающего датасета\n",
        "    pool - формат для Catboost\n",
        "    le - данные с LabelEncoder\n",
        "    matrix - формат для XGB\n",
        "    ohe - данные с OneHotEncoder\n",
        "    full - возвращает полные данные без разбивки на обучающую и валидационную выборки\n",
        "    \"\"\"\n",
        "    # train_get_data = pd.read_csv(\"https://raw.githubusercontent.com/a-milenkin/Competitive_Data_Science/main/data/quickstart_train.csv\")\n",
        "\n",
        "    test_size = 0.2\n",
        "    drop_cols = ['car_id', 'target_reg',\n",
        "                 'deviation_normal_count', 'target_class']\n",
        "    cat_features = ['car_type', 'fuel_type', 'model']\n",
        "\n",
        "    X = train_get_data.drop(drop_cols, axis=1, errors=\"ignore\")\n",
        "    y = train_get_data[\"target_reg\"].to_numpy()\n",
        "\n",
        "    for col in cat_features:\n",
        "        X[col] = X[col].astype('category')\n",
        "        # test[col] = test[col].astype('category')\n",
        "\n",
        "    X_train, X_val, y_train, y_val = train_test_split(\n",
        "        X, y, test_size=test_size, random_state=random_state)\n",
        "\n",
        "    if pool == True:\n",
        "        train_df = cb.Pool(data=X_train, label=y_train, cat_features=cat_features)\n",
        "        eval_df = cb.Pool(data=X_val, label=y_val, cat_features=cat_features)\n",
        "        if full == True:\n",
        "            return X, y\n",
        "        else:\n",
        "            return X_val, y_val, train_df, eval_df\n",
        "\n",
        "    X_lgbm = X.copy()  # X_feat.copy()\n",
        "    for col in cat_features:\n",
        "        X_lgbm[col] = LabelEncoder().fit_transform(X_lgbm[col])\n",
        "\n",
        "    if le == True:\n",
        "        X_train, X_val, y_train, y_val = train_test_split(X_lgbm, y, test_size=test_size, random_state=random_state)\n",
        "        if full == True:\n",
        "            return X_lgbm, y\n",
        "        else:\n",
        "            return X_train, X_val, y_train, y_val\n",
        "\n",
        "    if matrix == True:\n",
        "        X_train, X_val, y_train, y_val = train_test_split(X_lgbm, y, test_size=test_size, random_state=random_state)\n",
        "        train_df = xgb.DMatrix(X_train, label=y_train)\n",
        "        eval_df = xgb.DMatrix(X_val, label=y_val)\n",
        "        return X_val, y_val, train_df, eval_df\n",
        "\n",
        "    if ohe == True:\n",
        "        enc = OneHotEncoder(handle_unknown='ignore')\n",
        "        enc.fit(X)\n",
        "        ohe_X = enc.transform(X).toarray()\n",
        "        X_train, X_val, y_train, y_val = train_test_split(ohe_X, y, test_size=test_size, random_state=random_state)\n",
        "        if full == True:\n",
        "            return ohe_X, y\n",
        "        else:\n",
        "            return X_train, X_val, y_train, y_val\n",
        "\n",
        "    return X_train, X_val, y_train, y_val"
      ]
    },
    {
      "cell_type": "code",
      "execution_count": null,
      "metadata": {
        "id": "imEQt6KA7b-M"
      },
      "outputs": [],
      "source": [
        "test_get_data = pd.read_csv(\n",
        "    \"https://raw.githubusercontent.com/a-milenkin/Competitive_Data_Science/main/data/quickstart_test.csv\")\n",
        "\n",
        "def get_test_data(pool=False, le=False, matrix=False, ohe=False):\n",
        "    \"\"\"Получение тестового датасета\n",
        "    pool - формат для Catboost\n",
        "    le - данные с LabelEncoder\n",
        "    matrix - формат для XGB\n",
        "    ohe - данные с OneHotEncoder\n",
        "    \"\"\"\n",
        "    # test_get_data = pd.read_csv(\"https://raw.githubusercontent.com/a-milenkin/Competitive_Data_Science/main/data/quickstart_test.csv\")\n",
        "\n",
        "    test_to_drop = ['car_id', 'deviation_normal_count', 'target_class']\n",
        "    cat_features = ['car_type', 'fuel_type', 'model']\n",
        "\n",
        "    for col in cat_features:\n",
        "        test_get_data[col] = test_get_data[col].astype('category')\n",
        "\n",
        "    test_df = test_get_data.drop(test_to_drop, axis=1, errors=\"ignore\")\n",
        "\n",
        "    test_lgbm = test_df.copy()  # test_feat.copy()\n",
        "    for col in cat_features:\n",
        "        test_lgbm[col] = LabelEncoder().fit_transform(test_lgbm[col])\n",
        "\n",
        "    if pool == True:\n",
        "        test_df = cb.Pool(data=test_df, label=None, cat_features=cat_features)\n",
        "        return test_df\n",
        "\n",
        "    if le == True:\n",
        "        return test_lgbm\n",
        "\n",
        "    if matrix == True:\n",
        "        test_xgb = xgb.DMatrix(data=test_lgbm, label=None)\n",
        "        return test_xgb\n",
        "\n",
        "    # train = pd.read_csv(\"https://raw.githubusercontent.com/a-milenkin/Competitive_Data_Science/main/data/quickstart_train.csv\")\n",
        "    X = train_get_data.drop((test_to_drop+['target_reg']), axis=1, errors=\"ignore\")\n",
        "    if ohe == True:\n",
        "        enc = OneHotEncoder(handle_unknown='ignore')\n",
        "        enc.fit(X)\n",
        "        ohe_test = enc.transform(test_df).toarray()\n",
        "        return ohe_test\n",
        "\n",
        "    return test_df"
      ]
    },
    {
      "cell_type": "markdown",
      "metadata": {
        "id": "xR5koDz27b-M"
      },
      "source": [
        "Напишем функцию для отображения параметров оптуны и зафиксируем флаг для включения оптуны."
      ]
    },
    {
      "cell_type": "code",
      "execution_count": null,
      "metadata": {
        "id": "NmruZqtp7b-M"
      },
      "outputs": [],
      "source": [
        "enable_optuna = False  #флаг для включения подбора параметров оптуной\n",
        "visual_optuna = False  #флаг для включения визуализации работы оптуны\n",
        "\n",
        "\n",
        "def optuna_info(params, study, visual=visual_optuna):\n",
        "\n",
        "  if visual == True:\n",
        "    display(optuna.visualization.plot_slice(\n",
        "            study, params=params, target_name='rmse')),\n",
        "    display(optuna.visualization.plot_optimization_history(study)),\n",
        "    display(optuna.visualization.plot_param_importances(study))\n",
        "\n",
        "  return print(\"Best trial: score {}, params {}\".format(study.best_trial.value, study.best_trial.params))"
      ]
    },
    {
      "cell_type": "markdown",
      "metadata": {
        "id": "DdtIzF9i7b-M"
      },
      "source": [
        "Функция сохранения файла с предсказаниями\n"
      ]
    },
    {
      "cell_type": "code",
      "execution_count": null,
      "metadata": {
        "id": "3y2u76-Q7b-M"
      },
      "outputs": [],
      "source": [
        "def save_csv(name, save=True):\n",
        "    path = 'subs/'\n",
        "    if save == True:\n",
        "        test[['car_id', 'target_reg']].to_csv(\n",
        "            f'{path}sb_target_reg_RMSE_{name}.csv', index=False)\n",
        "        print('CSV file saved!')\n",
        "    pass"
      ]
    },
    {
      "cell_type": "markdown",
      "metadata": {
        "id": "96ziN32v7b-M"
      },
      "source": [
        "## Подбор моделей и гиперпараметров"
      ]
    },
    {
      "cell_type": "markdown",
      "metadata": {
        "id": "wmUD07sB7b-M"
      },
      "source": [
        "### CatBoostRegressor"
      ]
    },
    {
      "cell_type": "markdown",
      "metadata": {
        "id": "EGoiW46a7b-M"
      },
      "source": [
        "Подбираем гиперпараметры"
      ]
    },
    {
      "cell_type": "code",
      "execution_count": null,
      "metadata": {
        "id": "Ghosurfdnxet"
      },
      "outputs": [],
      "source": [
        "def fit_catboost(trial, X_val, y_val, train_dataset, eval_dataset):\n",
        "\n",
        "    param = {\"colsample_bylevel\": trial.suggest_float(\"colsample_bylevel\", 0.82, 0.85),\n",
        "             \"depth\": trial.suggest_int(\"depth\", 3, 15),# ,\"Plain\"]),\n",
        "             \"boosting_type\": trial.suggest_categorical(\"boosting_type\", [\"Ordered\"]),# \"Bayesian\", \"Bernoulli\", 'MVS']),\n",
        "             \"bootstrap_type\": trial.suggest_categorical(\"bootstrap_type\", ['No']),\n",
        "             \"learning_rate\": trial.suggest_discrete_uniform(\"learning_rate\", 0.1, 0.75, 0.001),\n",
        "             \"l2_leaf_reg\": trial.suggest_discrete_uniform('l2_leaf_reg', 0, 1, 0.2),\n",
        "             \"min_child_samples\": trial.suggest_int('min_child_samples', 1, 16),\n",
        "             }\n",
        "\n",
        "    if param[\"bootstrap_type\"] == \"Bayesian\":\n",
        "        param[\"bagging_temperature\"] = trial.suggest_float(\n",
        "            \"bagging_temperature\", 0, 20)\n",
        "\n",
        "    elif param[\"bootstrap_type\"] == \"Bernoulli\":\n",
        "        param[\"subsample\"] = trial.suggest_float(\"subsample\", 0.1, 1)\n",
        "\n",
        "    cb_model = cb.CatBoostRegressor(**param,\n",
        "                                    thread_count=-1,\n",
        "                                    random_seed=random_state,\n",
        "                                    cat_features=cat_features,\n",
        "                                    eval_metric=\"RMSE\",\n",
        "                                    use_best_model=True,\n",
        "                                    )\n",
        "\n",
        "    pruning_callback = optuna.integration.CatBoostPruningCallback(trial, \"RMSE\")\n",
        "\n",
        "    cb_model.fit(train_dataset,\n",
        "                 eval_set=(eval_dataset),\n",
        "                 verbose_eval=0,\n",
        "                 plot=False,\n",
        "                 early_stopping_rounds=50,\n",
        "                 callbacks=[pruning_callback],\n",
        "                 )\n",
        "\n",
        "    pruning_callback.check_pruned()\n",
        "\n",
        "    y_pred = cb_model.predict(X_val)\n",
        "    rmse = np.sqrt(mean_squared_error(y_val, y_pred))\n",
        "\n",
        "    return cb_model, y_pred"
      ]
    },
    {
      "cell_type": "code",
      "execution_count": null,
      "metadata": {
        "id": "oaF4AAVkh6ZJ"
      },
      "outputs": [],
      "source": [
        "def objective_cb(trial):\n",
        "\n",
        "    X_val, y_val, train_dataset, eval_dataset = get_data(pool=True)\n",
        "\n",
        "    model, y_pred = fit_catboost(trial, X_val, y_val, train_dataset, eval_dataset)\n",
        "    rmse = np.sqrt(mean_squared_error(y_val, y_pred))\n",
        "\n",
        "    return rmse"
      ]
    },
    {
      "cell_type": "markdown",
      "metadata": {
        "id": "ledODjpA7b-N"
      },
      "source": [
        "Фиксируем лучшие скор и параметры"
      ]
    },
    {
      "cell_type": "code",
      "execution_count": null,
      "metadata": {
        "id": "322tBItwkmNC"
      },
      "outputs": [],
      "source": [
        "best_score_cb = 10.631621276271364\n",
        "best_params_cb = {'colsample_bylevel': 0.825170006766161, 'depth': 12, 'boosting_type': 'Ordered',\n",
        "                  'bootstrap_type': 'No', 'learning_rate': 0.555, 'l2_leaf_reg': 0.2, 'min_child_samples': 10}\n",
        "\n",
        "if enable_optuna == True:\n",
        "    study_cb = optuna.create_study(direction=\"minimize\", pruner=optuna.pruners.MedianPruner(n_warmup_steps=5))\n",
        "    study_cb.optimize(objective_cb, n_trials=1000,\n",
        "                      n_jobs=-1, show_progress_bar=True,)\n",
        "    params_cb = ['l2_leaf_reg', 'colsample_bylevel',  'depth','bootstrap_type', 'boosting_type', \"learning_rate\", 'min_child_samples']\n",
        "    optuna_info(params_cb, study_cb)\n",
        "\n",
        "    if study_cb.best_trial.value < best_score_cb:\n",
        "        print(colored('\\n\\n !!! переопределить параметры !!!', 'red'))"
      ]
    },
    {
      "cell_type": "markdown",
      "metadata": {
        "id": "ArJW5m2n7b-N"
      },
      "source": [
        "Обучаем модель"
      ]
    },
    {
      "cell_type": "code",
      "execution_count": null,
      "metadata": {
        "colab": {
          "base_uri": "https://localhost:8080/"
        },
        "id": "E7b8KGR43ozD",
        "outputId": "158d1ded-7adb-4e66-91bc-f3324ddac11a",
        "scrolled": false
      },
      "outputs": [
        {
          "output_type": "execute_result",
          "data": {
            "text/plain": [
              "10.6316"
            ]
          },
          "metadata": {},
          "execution_count": 53
        }
      ],
      "source": [
        "# Best trial: score 10.631621276271364, params {'colsample_bylevel': 0.825170006766161, 'depth': 12, 'boosting_type': 'Ordered',\n",
        "# 'bootstrap_type': 'No', 'learning_rate': 0.555, 'l2_leaf_reg': 0.2, 'min_child_samples': 10}\n",
        "\n",
        "X_train, X_val, y_train, y_val = get_data()\n",
        "\n",
        "cb_model = cb.CatBoostRegressor(**best_params_cb,\n",
        "                                thread_count=-1,\n",
        "                                random_seed=random_state,\n",
        "                                cat_features=cat_features,\n",
        "                                eval_metric='RMSE',\n",
        "                                verbose=0\n",
        "                                )\n",
        "\n",
        "cb_model.fit(X_train, y_train,\n",
        "             eval_set=(X_val, y_val),\n",
        "             verbose_eval=0,\n",
        "             plot=False,\n",
        "             early_stopping_rounds=50\n",
        "            )\n",
        "\n",
        "rmse_cb = np.sqrt(mean_squared_error(y_val, cb_model.predict(X_val)))\n",
        "rmse_cb.round(4)"
      ]
    },
    {
      "cell_type": "code",
      "execution_count": null,
      "metadata": {
        "colab": {
          "base_uri": "https://localhost:8080/"
        },
        "id": "63gf3Z4s7b-N",
        "outputId": "d84de7cd-f30d-4bc1-e87c-e3c90ed0249a"
      },
      "outputs": [
        {
          "output_type": "execute_result",
          "data": {
            "text/plain": [
              "10.6316"
            ]
          },
          "metadata": {},
          "execution_count": 54
        }
      ],
      "source": [
        "# Best trial: score 10.631621276271364, params {'colsample_bylevel': 0.825170006766161, 'depth': 12, 'boosting_type': 'Ordered',\n",
        "# 'bootstrap_type': 'No', 'learning_rate': 0.555, 'l2_leaf_reg': 0.2, 'min_child_samples': 10}\n",
        "\n",
        "X_train, X_val, y_train, y_val = get_data()\n",
        "\n",
        "cb_model = cb.CatBoostRegressor(**best_params_cb,\n",
        "                                thread_count=-1,\n",
        "                                random_seed=random_state,\n",
        "                                cat_features=cat_features,\n",
        "                                eval_metric='RMSE',\n",
        "                                verbose=0  ,\n",
        "                                )\n",
        "\n",
        "cb_model.fit(X_train, y_train,\n",
        "             eval_set=(X_val, y_val),\n",
        "             verbose_eval=0,\n",
        "             plot=False,\n",
        "             early_stopping_rounds=50\n",
        "            )\n",
        "\n",
        "rmse_cb = np.sqrt(mean_squared_error(y_val, cb_model.predict(X_val)))\n",
        "rmse_cb.round(4)"
      ]
    },
    {
      "cell_type": "code",
      "execution_count": null,
      "metadata": {
        "id": "gsbsons6sKnm"
      },
      "outputs": [],
      "source": [
        "# отбор признаков не оказал существенного влияния на качество предсказания\n",
        "\n",
        "# features_importances = pd.DataFrame({'features': X.columns,\n",
        "#                                      'importances_value': cb_model.get_feature_importance()})\n",
        "# f_im = features_importances.sort_values(by='importances_value', ascending=False).head(1500)\n",
        "# display(f_im)\n",
        "# filtred_features = list(f_im['features'])"
      ]
    },
    {
      "cell_type": "markdown",
      "metadata": {
        "id": "bTfYun6Q7b-N"
      },
      "source": [
        "Сохраняем предсказания в файл и в таблицу с тестовой выборкой"
      ]
    },
    {
      "cell_type": "code",
      "execution_count": null,
      "metadata": {
        "id": "BwjE0UZsv4tY",
        "colab": {
          "base_uri": "https://localhost:8080/"
        },
        "outputId": "e3f97fbb-60aa-4eba-c3ec-5c12bceae126"
      },
      "outputs": [
        {
          "output_type": "stream",
          "name": "stdout",
          "text": [
            "CSV file saved!\n"
          ]
        }
      ],
      "source": [
        "test_dataset = get_test_data(pool=True)\n",
        "\n",
        "test['target_reg'] = cb_model.predict(test_dataset)\n",
        "\n",
        "file_suffix = 'cb'\n",
        "save_csv(file_suffix)\n",
        "\n",
        "test[f'target_reg_{file_suffix}'] = test['target_reg']"
      ]
    },
    {
      "cell_type": "markdown",
      "metadata": {
        "id": "OhGqnyUw7b-N"
      },
      "source": [
        "Здесь и далее указан RMSE на тесте в виде заголовка для удобства анализа в процессе решения задачи\n",
        "\n"
      ]
    },
    {
      "cell_type": "markdown",
      "metadata": {
        "id": "-GZ2kfRp7b-N"
      },
      "source": [
        "RMSE вашего решения 11.9"
      ]
    },
    {
      "cell_type": "markdown",
      "metadata": {
        "id": "SZ7Y-CA17b-N"
      },
      "source": [
        "### LGBMRegressor"
      ]
    },
    {
      "cell_type": "code",
      "execution_count": null,
      "metadata": {
        "code_folding": [],
        "id": "c-Vj4YuP7b-N"
      },
      "outputs": [],
      "source": [
        "def fit_lgbm(trial, X_train, X_val, y_train, y_val):\n",
        "\n",
        "    param = {'n_estimators': 1000,\n",
        "             \"learning_rate\": trial.suggest_float(\"learning_rate\", 0.01, 0.45),\n",
        "             'reg_alpha': trial.suggest_loguniform('reg_alpha', 1e-3, 10.0),\n",
        "             \"reg_lambda\": trial.suggest_loguniform(\"reg_lambda\", 1e-8, 10.0),\n",
        "             \"num_leaves\": trial.suggest_int(\"num_leaves\", 2, 100),\n",
        "             \"max_bin\": trial.suggest_int(\"max_bin\", 2, 100),\n",
        "             \"colsample_bytree\": trial.suggest_float(\"colsample_bytree\", 0.3, 0.95),\n",
        "             'subsample': trial.suggest_float('subsample', 0.4, 1.0),# [\"goss\",\"gbdt\", 'dart']),#, 'rf']),\n",
        "             \"boosting_type\": trial.suggest_categorical(\"boosting_type\", [\"gbdt\"]),\n",
        "             'min_child_samples': trial.suggest_int('min_child_samples', 1, 100),\n",
        "             }\n",
        "\n",
        "    lgbm_model = lgb.LGBMRegressor(**param,\n",
        "                                   objective=\"rmse\",\n",
        "                                   metric=\"rmse\",\n",
        "                                   n_jobs=-1,\n",
        "                                   random_seed=random_state,\n",
        "                                   cat_feature=[0, 1, 2],\n",
        "                                   )\n",
        "\n",
        "    pruning_callback = optuna.integration.LightGBMPruningCallback(trial, \"rmse\")\n",
        "\n",
        "    lgbm_model.fit(X_train, y_train,\n",
        "                   eval_set=[(X_val, y_val)],\n",
        "                   eval_metric='rmse',\n",
        "                   verbose=0,\n",
        "                   early_stopping_rounds=50,\n",
        "                   callbacks=[pruning_callback]\n",
        "                   )\n",
        "\n",
        "    y_pred = lgbm_model.predict(X_val)\n",
        "    rmse = np.sqrt(mean_squared_error(y_val, y_pred))\n",
        "\n",
        "    return lgbm_model, y_pred"
      ]
    },
    {
      "cell_type": "code",
      "execution_count": null,
      "metadata": {
        "id": "emj_TbF07b-O"
      },
      "outputs": [],
      "source": [
        "def objective_lgbm(trial):\n",
        "\n",
        "    X_train, X_val, y_train, y_val = get_data(le=True)\n",
        "\n",
        "    model, y_pred = fit_lgbm(trial, X_train, X_val, y_train, y_val)\n",
        "    rmse = np.sqrt(mean_squared_error(y_val, y_pred))\n",
        "\n",
        "    return rmse"
      ]
    },
    {
      "cell_type": "code",
      "execution_count": null,
      "metadata": {
        "id": "v1ZzjNJ47b-O"
      },
      "outputs": [],
      "source": [
        "best_score_lgbm = 10.519709405221692\n",
        "best_params_lgbm = {'learning_rate': 0.2841296744605353, 'reg_alpha': 1.100403386781878, 'reg_lambda': 1.039357602594974e-08,\n",
        "                    'num_leaves': 13, 'max_bin': 42, 'colsample_bytree': 0.7792295126353044, 'subsample': 0.6213690599021252,\n",
        "                    'boosting_type': 'gbdt', 'min_child_samples': 12}\n",
        "\n",
        "if enable_optuna == True:\n",
        "    study_lgbm = optuna.create_study(direction=\"minimize\", pruner=optuna.pruners.MedianPruner(n_warmup_steps=5))\n",
        "    study_lgbm.optimize(objective_lgbm, n_trials=1000,\n",
        "                        n_jobs=-1, show_progress_bar=True,)\n",
        "    params_lgbm = ['reg_lambda', 'reg_alpha', 'num_leaves', 'max_bin', 'colsample_bytree',\n",
        "                   'subsample', 'boosting_type', \"learning_rate\", 'min_child_samples']\n",
        "    optuna_info(params_lgbm, study_lgbm)\n",
        "\n",
        "    if study_lgbm.best_trial.value < best_score_lgbm:\n",
        "        print(colored('\\n\\n !!! переопределить параметры !!!', 'red'))"
      ]
    },
    {
      "cell_type": "code",
      "execution_count": null,
      "metadata": {
        "colab": {
          "base_uri": "https://localhost:8080/"
        },
        "id": "zwUabkdH7b-O",
        "outputId": "6618b115-3920-46bc-9f73-9476dfe8fe2e"
      },
      "outputs": [
        {
          "output_type": "execute_result",
          "data": {
            "text/plain": [
              "10.5197"
            ]
          },
          "metadata": {},
          "execution_count": 60
        }
      ],
      "source": [
        "# Best trial: score 10.519709405221692, params {'learning_rate': 0.2841296744605353, 'reg_alpha': 1.100403386781878,\n",
        "# 'reg_lambda': 1.039357602594974e-08, 'num_leaves': 13, 'max_bin': 42,\n",
        "# 'colsample_bytree': 0.7792295126353044, 'subsample': 0.6213690599021252, 'boosting_type': 'gbdt', '\n",
        "# min_child_samples': 12}\n",
        "\n",
        "X_train, X_val, y_train, y_val = get_data(le=True)\n",
        "\n",
        "lgbm_model = lgb.LGBMRegressor(**best_params_lgbm,\n",
        "                               n_jobs=-1,\n",
        "                               objective=\"rmse\",\n",
        "                               random_state=random_state,\n",
        "                               cat_feature=cat_features_index,\n",
        "                               )\n",
        "\n",
        "lgbm_model.fit(X_train, y_train,\n",
        "               eval_set=[(X_val, y_val)],\n",
        "               eval_metric='rmse',\n",
        "               early_stopping_rounds=50,\n",
        "               verbose=0,\n",
        "               )\n",
        "\n",
        "rmse_lgbm = np.sqrt(mean_squared_error(y_val, lgbm_model.predict(X_val)))\n",
        "rmse_lgbm.round(4)"
      ]
    },
    {
      "cell_type": "code",
      "execution_count": null,
      "metadata": {
        "colab": {
          "base_uri": "https://localhost:8080/"
        },
        "id": "6lS95d4Y7b-O",
        "outputId": "842e129c-38ba-4b13-edfc-d593f7364ccc"
      },
      "outputs": [
        {
          "output_type": "stream",
          "name": "stdout",
          "text": [
            "CSV file saved!\n"
          ]
        }
      ],
      "source": [
        "test_dataset = get_test_data(le=True)\n",
        "\n",
        "test['target_reg'] = lgbm_model.predict(test_dataset)\n",
        "\n",
        "file_suffix = 'lgbm'\n",
        "save_csv(file_suffix)\n",
        "\n",
        "test[f'target_reg_{file_suffix}'] = test['target_reg']"
      ]
    },
    {
      "cell_type": "markdown",
      "metadata": {
        "id": "N-dDEbul7b-O"
      },
      "source": [
        "RMSE вашего решения 12.1"
      ]
    },
    {
      "cell_type": "markdown",
      "metadata": {
        "id": "J_nqSzE07b-O"
      },
      "source": [
        "### XGBRegressor"
      ]
    },
    {
      "cell_type": "code",
      "execution_count": null,
      "metadata": {
        "id": "cxUKd0ab7b-O"
      },
      "outputs": [],
      "source": [
        "def fit_xgboost(trial, X_val, y_val, dtrain, dval):\n",
        "\n",
        "    param = {\n",
        "        \"learning_rate\": trial.suggest_float(\"learning_rate\", 0.1, 0.55),\n",
        "        \"min_child_weight\": trial.suggest_int(\"min_child_weight\", 10, 25),\n",
        "        \"colsample_bytree\": trial.suggest_float(\"colsample_bytree\", 0.8, 1.),\n",
        "        \"max_depth\": trial.suggest_int(\"max_depth\", 3, 40),\n",
        "        \"max_leaves\": trial.suggest_int(\"max_leaves\", 10, 25),\n",
        "        \"booster\": trial.suggest_categorical(\"booster\", [\"gbtree\", \"dart\"]),\n",
        "        \"verbosity\": 0,\n",
        "        \"objective\": \"reg:squarederror\",\n",
        "        \"eval_metric\": 'rmse',\n",
        "        'tree_method': 'hist',\n",
        "        'random_state': random_state,\n",
        "        \"lambda\": trial.suggest_float(\"lambda\", 1e-8, 1.0),\n",
        "        \"alpha\": trial.suggest_float(\"alpha\", 1e-8, 1.0),\n",
        "\n",
        "    }\n",
        "\n",
        "    pruning_callback = optuna.integration.XGBoostPruningCallback(trial, \"validation-rmse\")\n",
        "\n",
        "    xgb_model = xgb.train(param,\n",
        "                          dtrain,\n",
        "                          evals=[(dval, \"validation\")],\n",
        "                          callbacks=[pruning_callback],\n",
        "                          verbose_eval=0,\n",
        "                          )\n",
        "\n",
        "    y_pred = xgb_model.predict(dval)\n",
        "    rmse = np.sqrt(mean_squared_error(y_val, y_pred))\n",
        "\n",
        "    return xgb_model, y_pred"
      ]
    },
    {
      "cell_type": "code",
      "execution_count": null,
      "metadata": {
        "id": "uk2Awt8M7b-O"
      },
      "outputs": [],
      "source": [
        "def objective_xgb(trial):\n",
        "\n",
        "    X_val, y_val, dtrain, dval = get_data(matrix=True)\n",
        "\n",
        "    model, y_pred = fit_xgboost(trial, X_val, y_val, dtrain, dval)\n",
        "    rmse = np.sqrt(mean_squared_error(y_val, y_pred))\n",
        "\n",
        "    return rmse"
      ]
    },
    {
      "cell_type": "code",
      "execution_count": null,
      "metadata": {
        "id": "fHC59GLr7b-O"
      },
      "outputs": [],
      "source": [
        "best_score_xgb = 10.761444256008934\n",
        "best_params_xgb = {'learning_rate': 0.3405594123426172, 'min_child_weight': 14, 'colsample_bytree': 0.9709952750624604,\n",
        "                   'max_depth': 36, 'max_leaves': 20, 'booster': 'gbtree', 'lambda': 0.94263010788944, 'alpha': 0.4785760021961863}\n",
        "\n",
        "if enable_optuna == True:\n",
        "    study_xgb = optuna.create_study(direction=\"minimize\", pruner=optuna.pruners.MedianPruner(n_warmup_steps=15))\n",
        "    study_xgb.optimize(objective_xgb, n_trials=1000,n_jobs=-1, show_progress_bar=True,)\n",
        "    params_xgb = ['learning_rate',  'min_child_weight', 'colsample_bytree','max_depth', \"max_leaves\", 'booster', 'lambda', 'alpha']\n",
        "    optuna_info(params_xgb, study_xgb)\n",
        "\n",
        "    if study_xgb.best_trial.value < best_score_xgb:\n",
        "        print(colored('\\n\\n !!! переопределить параметры !!!', 'red'))"
      ]
    },
    {
      "cell_type": "code",
      "execution_count": null,
      "metadata": {
        "colab": {
          "base_uri": "https://localhost:8080/"
        },
        "id": "4VncHf1h7b-O",
        "outputId": "ff1f7d23-8cbb-44f8-d372-4be716e2a808"
      },
      "outputs": [
        {
          "output_type": "execute_result",
          "data": {
            "text/plain": [
              "11.1727"
            ]
          },
          "metadata": {},
          "execution_count": 65
        }
      ],
      "source": [
        "# Best trial: score 10.761444256008934, params {'learning_rate': 0.3405594123426172, 'min_child_weight': 14, 'colsample_bytree': 0.9709952750624604,\n",
        "# 'max_depth': 36, 'max_leaves': 20, 'booster': 'gbtree', 'lambda': 0.94263010788944, 'alpha': 0.4785760021961863}\n",
        "\n",
        "X_train, X_val, y_train, y_val = get_data(le=True)\n",
        "\n",
        "xgb_model = xgb.XGBRegressor(**best_params_xgb,\n",
        "                             random_state=random_state,\n",
        "                             tree_method='hist',\n",
        "                             objective='reg:squarederror',\n",
        "                             eval_metric='rmse',\n",
        "                             n_jobs=-1,\n",
        "                             )\n",
        "\n",
        "\n",
        "xgb_model.fit(X_train, y_train,\n",
        "              eval_set=[(X_val, y_val)],\n",
        "              verbose=0,\n",
        "              early_stopping_rounds=50\n",
        "              )\n",
        "\n",
        "rmse_xgb = np.sqrt(mean_squared_error(y_val, xgb_model.predict(X_val,\n",
        "                                                               iteration_range=(0, xgb_model.best_iteration + 1))))\n",
        "rmse_xgb.round(4)"
      ]
    },
    {
      "cell_type": "code",
      "execution_count": null,
      "metadata": {
        "colab": {
          "base_uri": "https://localhost:8080/"
        },
        "id": "_gK34VoW7b-P",
        "outputId": "734b27cd-e978-470e-c552-5dca1b293d87"
      },
      "outputs": [
        {
          "output_type": "stream",
          "name": "stdout",
          "text": [
            "CSV file saved!\n"
          ]
        }
      ],
      "source": [
        "test_dataset = get_test_data(le=True)\n",
        "\n",
        "test['target_reg'] = xgb_model.predict(test_dataset, iteration_range=(0, xgb_model.best_iteration + 1))\n",
        "\n",
        "file_suffix = 'xgb'\n",
        "save_csv(file_suffix)\n",
        "\n",
        "test[f'target_reg_{file_suffix}'] = test['target_reg']"
      ]
    },
    {
      "cell_type": "markdown",
      "metadata": {
        "id": "bSYqME_x7b-P"
      },
      "source": [
        "RMSE вашего решения 12.0"
      ]
    },
    {
      "cell_type": "markdown",
      "metadata": {
        "id": "o9HgO7gx7b-P"
      },
      "source": [
        "### RandomForestRegressor"
      ]
    },
    {
      "cell_type": "code",
      "execution_count": null,
      "metadata": {
        "id": "vIAifHpj7b-P"
      },
      "outputs": [],
      "source": [
        "def fit_rf(trial, X_train, X_val, y_train, y_val):\n",
        "\n",
        "    param = {'min_samples_leaf': trial.suggest_int(\"min_samples_leaf\", 2, 12),\n",
        "             'n_estimators': trial.suggest_int(\"n_estimators\", 10, 2000),\n",
        "             'min_samples_split': trial.suggest_int(\"min_samples_split\", 2, 12),\n",
        "             'max_features': trial.suggest_categorical(\"max_features\", [\"auto\", 'sqrt', 'log2']),\n",
        "             \"max_depth\": trial.suggest_int(\"max_depth\", 2, 12),\n",
        "             }\n",
        "\n",
        "    rf_model = RandomForestRegressor(**param,\n",
        "                                     criterion='squared_error',\n",
        "                                     n_jobs=-1,\n",
        "                                     random_state=random_state,\n",
        "                                     )\n",
        "\n",
        "    rf_model.fit(X_train, y_train)\n",
        "\n",
        "    y_pred = rf_model.predict(X_val)\n",
        "    rmse = np.sqrt(mean_squared_error(y_val, y_pred))\n",
        "\n",
        "    return rf_model, y_pred"
      ]
    },
    {
      "cell_type": "code",
      "execution_count": null,
      "metadata": {
        "id": "1KnD-ikG7b-P"
      },
      "outputs": [],
      "source": [
        "def objective_rf(trial):\n",
        "\n",
        "    X_train, X_val, y_train, y_val = get_data(le=True)\n",
        "\n",
        "    model, y_pred = fit_rf(trial,  X_train, X_val, y_train, y_val)\n",
        "    rmse = np.sqrt(mean_squared_error(y_val, y_pred))\n",
        "\n",
        "    return rmse"
      ]
    },
    {
      "cell_type": "code",
      "execution_count": null,
      "metadata": {
        "id": "2DSL8TTT7b-P"
      },
      "outputs": [],
      "source": [
        "best_score_rf = 11.001798555975077\n",
        "best_params_rf = {'min_samples_leaf': 3, 'n_estimators': 2989, 'min_samples_split': 12, 'max_features': 'auto', 'max_depth': 8}\n",
        "\n",
        "if enable_optuna == True:\n",
        "    study_rf = optuna.create_study(direction=\"minimize\")\n",
        "    study_rf.optimize(objective_rf, n_trials=1000,\n",
        "                      n_jobs=-1, show_progress_bar=True,)\n",
        "    params_rf = ['min_samples_leaf', 'n_estimators', 'min_samples_split', 'max_features', \"max_depth\"]\n",
        "    optuna_info(params_rf, study_rf)\n",
        "\n",
        "    if study_rf.best_trial.value < best_score_rf:\n",
        "        print(colored('\\n\\n !!! переопределить параметры !!!', 'red'))"
      ]
    },
    {
      "cell_type": "code",
      "execution_count": null,
      "metadata": {
        "colab": {
          "base_uri": "https://localhost:8080/"
        },
        "id": "AdC1c9Wu7b-P",
        "outputId": "5aafc71d-39e8-4626-8d35-2e7fc4205b46"
      },
      "outputs": [
        {
          "output_type": "execute_result",
          "data": {
            "text/plain": [
              "11.0018"
            ]
          },
          "metadata": {},
          "execution_count": 70
        }
      ],
      "source": [
        "# Best trial: score 11.001798555975077, params {'min_samples_leaf': 3, 'n_estimators': 2989, 'min_samples_split': 12,\n",
        "# 'max_features': 'auto', 'max_depth': 8}\n",
        "\n",
        "X_train, X_val, y_train, y_val = get_data(le=True)\n",
        "\n",
        "rf_model = RandomForestRegressor(**best_params_rf,\n",
        "                                 criterion='squared_error',\n",
        "                                 n_jobs=-1,\n",
        "                                 random_state=random_state,\n",
        "                                 )\n",
        "\n",
        "rf_model.fit(X_train, y_train)\n",
        "\n",
        "rmse_rf = np.sqrt(mean_squared_error(y_val, rf_model.predict(X_val)))\n",
        "rmse_rf.round(4)"
      ]
    },
    {
      "cell_type": "code",
      "execution_count": null,
      "metadata": {
        "colab": {
          "base_uri": "https://localhost:8080/"
        },
        "id": "iGRVuBFx7b-P",
        "outputId": "1b12b705-1e78-4596-ec39-4f7baa8b61bf"
      },
      "outputs": [
        {
          "output_type": "stream",
          "name": "stdout",
          "text": [
            "CSV file saved!\n"
          ]
        }
      ],
      "source": [
        "test_dataset = get_test_data(le=True)\n",
        "\n",
        "test['target_reg'] = rf_model.predict(test_dataset)\n",
        "\n",
        "file_suffix = 'rf'\n",
        "save_csv(file_suffix)\n",
        "\n",
        "test[f'target_reg_{file_suffix}'] = test['target_reg']"
      ]
    },
    {
      "cell_type": "markdown",
      "metadata": {
        "id": "ylPTiaqo7b-P"
      },
      "source": [
        "RMSE вашего решения 11.9"
      ]
    },
    {
      "cell_type": "markdown",
      "metadata": {
        "id": "UroZx5Ta7b-P"
      },
      "source": [
        "### LinearRegression"
      ]
    },
    {
      "cell_type": "code",
      "execution_count": null,
      "metadata": {
        "colab": {
          "base_uri": "https://localhost:8080/"
        },
        "id": "-pAXrg--7b-P",
        "outputId": "9dd59488-45ea-4f51-ebf1-60aac4f66cbd"
      },
      "outputs": [
        {
          "output_type": "execute_result",
          "data": {
            "text/plain": [
              "15.444"
            ]
          },
          "metadata": {},
          "execution_count": 72
        }
      ],
      "source": [
        "X_train, X_val, y_train, y_val = get_data(ohe=True)\n",
        "\n",
        "lr_model = LinearRegression(fit_intercept=False, positive=False)\n",
        "\n",
        "lr_model.fit(X_train, y_train)\n",
        "\n",
        "y_pred_lr = lr_model.predict(X_val)\n",
        "rmse_lr = np.sqrt(mean_squared_error(y_val, y_pred_lr))\n",
        "rmse_lr.round(4)"
      ]
    },
    {
      "cell_type": "code",
      "execution_count": null,
      "metadata": {
        "colab": {
          "base_uri": "https://localhost:8080/"
        },
        "id": "zg4uinRT7b-P",
        "outputId": "fe2657c9-bbf9-4f7b-ab89-0d4541b4655e"
      },
      "outputs": [
        {
          "output_type": "stream",
          "name": "stdout",
          "text": [
            "CSV file saved!\n"
          ]
        }
      ],
      "source": [
        "ohe_test_feat = get_test_data(ohe=True)\n",
        "test['target_reg'] = lr_model.predict(ohe_test_feat)\n",
        "\n",
        "file_suffix = 'lr'\n",
        "save_csv(file_suffix)\n",
        "\n",
        "test[f'target_reg_{file_suffix}'] = test['target_reg']"
      ]
    },
    {
      "cell_type": "markdown",
      "metadata": {
        "id": "qoSFpkrh7b-Q"
      },
      "source": [
        "RMSE вашего решения 15.8"
      ]
    },
    {
      "cell_type": "markdown",
      "metadata": {
        "id": "hSGcONrn7b-Q"
      },
      "source": [
        "### KNeighborsRegressor"
      ]
    },
    {
      "cell_type": "code",
      "execution_count": null,
      "metadata": {
        "id": "SXEVZUQf7b-Q"
      },
      "outputs": [],
      "source": [
        "def fit_kn(trial, X_train, X_val, y_train, y_val):\n",
        "\n",
        "    param = {\"n_neighbors\": trial.suggest_int(\"n_neighbors\", 700, 800),\n",
        "             \"leaf_size\": trial.suggest_int(\"leaf_size\", 1, 50), # ,\"distance\"]),\n",
        "             \"weights\": trial.suggest_categorical(\"weights\", [\"uniform\"]),\n",
        "             \"algorithm\": trial.suggest_categorical(\"algorithm\", ['auto', 'ball_tree', 'kd_tree', 'brute']),\n",
        "             \"p\": trial.suggest_int(\"p\", 1, 2),\n",
        "             }\n",
        "\n",
        "    kn_model = KNeighborsRegressor(**param,\n",
        "                                   n_jobs=-1,\n",
        "                                   metric='minkowski',\n",
        "                                   )\n",
        "\n",
        "    kn_model.fit(X_train, y_train)\n",
        "\n",
        "    y_pred = kn_model.predict(X_val)\n",
        "    rmse = np.sqrt(mean_squared_error(y_val, y_pred))\n",
        "\n",
        "    return kn_model, y_pred"
      ]
    },
    {
      "cell_type": "code",
      "execution_count": null,
      "metadata": {
        "id": "2oRIQhuC7b-Q"
      },
      "outputs": [],
      "source": [
        "def objective_kn(trial):\n",
        "\n",
        "    X_train, X_val, y_train, y_val = get_data(le=True)\n",
        "\n",
        "    model, y_pred = fit_kn(trial,  X_train, X_val, y_train, y_val)\n",
        "    rmse = np.sqrt(mean_squared_error(y_val, y_pred))\n",
        "\n",
        "    return rmse"
      ]
    },
    {
      "cell_type": "code",
      "execution_count": null,
      "metadata": {
        "id": "iLYZI7AK7b-Q"
      },
      "outputs": [],
      "source": [
        "best_score_kn = 16.141646215339\n",
        "best_params_kn = {'n_neighbors': 794, 'leaf_size': 30, 'weights': 'uniform', 'algorithm': 'brute', 'p': 2}\n",
        "\n",
        "if enable_optuna == True:\n",
        "    study_kn = optuna.create_study(direction=\"minimize\")\n",
        "    study_kn.optimize(objective_kn, n_trials=100,\n",
        "                      n_jobs=-1, show_progress_bar=True,)\n",
        "    params_kn = ['n_neighbors', 'leaf_size',  'weights', 'algorithm', 'p']\n",
        "    optuna_info(params_kn, study_kn)\n",
        "\n",
        "    if study_kn.best_trial.value < best_score_kn:\n",
        "        print(colored('\\n\\n !!! переопределить параметры !!!', 'red'))"
      ]
    },
    {
      "cell_type": "code",
      "execution_count": null,
      "metadata": {
        "colab": {
          "base_uri": "https://localhost:8080/"
        },
        "id": "ckyeSD2c7b-Q",
        "outputId": "02ffb39c-b784-40ed-e4b7-2cc7d4d62e14"
      },
      "outputs": [
        {
          "output_type": "execute_result",
          "data": {
            "text/plain": [
              "16.1416"
            ]
          },
          "metadata": {},
          "execution_count": 77
        }
      ],
      "source": [
        "# Best trial: score 16.141646215339, params {'n_neighbors': 794, 'leaf_size': 30, 'weights': 'uniform', 'algorithm': 'brute', 'p': 2}\n",
        "\n",
        "X_train, X_val, y_train, y_val = get_data(le=True)\n",
        "\n",
        "kn_model = KNeighborsRegressor(**best_params_kn,\n",
        "                               n_jobs=-1,\n",
        "                               metric='minkowski',\n",
        "                               )\n",
        "\n",
        "kn_model.fit(X_train, y_train)\n",
        "\n",
        "rmse_kn = np.sqrt(mean_squared_error(y_val, kn_model.predict(X_val)))\n",
        "rmse_kn.round(4)"
      ]
    },
    {
      "cell_type": "code",
      "execution_count": null,
      "metadata": {
        "colab": {
          "base_uri": "https://localhost:8080/"
        },
        "id": "l-qnOf2C7b-Q",
        "outputId": "c5e308c4-382c-43bd-e185-f1de79c24ccd"
      },
      "outputs": [
        {
          "output_type": "stream",
          "name": "stdout",
          "text": [
            "CSV file saved!\n"
          ]
        }
      ],
      "source": [
        "test_dataset = get_test_data(le=True)\n",
        "test['target_reg'] = kn_model.predict(test_dataset)\n",
        "\n",
        "file_suffix = 'kn'\n",
        "save_csv(file_suffix)\n",
        "\n",
        "test[f'target_reg_{file_suffix}'] = test['target_reg']"
      ]
    },
    {
      "cell_type": "markdown",
      "metadata": {
        "id": "thgombJD7b-Q"
      },
      "source": [
        "RMSE вашего решения 17.4\n"
      ]
    },
    {
      "cell_type": "markdown",
      "metadata": {
        "id": "P9xwKx6L7b-Q"
      },
      "source": [
        "### DecisionTreeRegressor"
      ]
    },
    {
      "cell_type": "code",
      "execution_count": null,
      "metadata": {
        "id": "tLRaKHr17b-Q"
      },
      "outputs": [],
      "source": [
        "def fit_dt(trial, X_train, X_val, y_train, y_val):\n",
        "\n",
        "    param = {\"splitter\": trial.suggest_categorical('splitter', ['best','random']),\n",
        "             \"max_depth\": trial.suggest_int(\"max_depth\", 1, 50),\n",
        "             \"min_samples_split\": trial.suggest_int(\"min_samples_split\", 2, 50),\n",
        "             \"min_samples_leaf\": trial.suggest_int(\"min_samples_leaf\", 1, 50),\n",
        "             \"min_weight_fraction_leaf\": trial.suggest_float(\"min_weight_fraction_leaf\", 0, 0.5),\n",
        "             \"max_features\": trial.suggest_int(\"max_features\", 1, 50),\n",
        "             #\"max_features\": trial.suggest_categorical(\"max_features\", ['auto', 'sqrt', 'log2', 'None']),\n",
        "             \"max_leaf_nodes\": trial.suggest_int(\"max_leaf_nodes\", 2, 50),\n",
        "             \"min_impurity_decrease\": trial.suggest_float(\"min_impurity_decrease\", 0, 1),\n",
        "             \"ccp_alpha\": trial.suggest_float(\"ccp_alpha\", 0, 1),\n",
        "             }\n",
        "\n",
        "    dt_model = DecisionTreeRegressor(**param,\n",
        "                                     criterion='squared_error',\n",
        "                                     random_state=random_state,\n",
        "                                   )\n",
        "\n",
        "    dt_model.fit(X_train, y_train)\n",
        "\n",
        "    y_pred = dt_model.predict(X_val)\n",
        "    rmse = np.sqrt(mean_squared_error(y_val, y_pred))\n",
        "\n",
        "    return dt_model, y_pred"
      ]
    },
    {
      "cell_type": "code",
      "execution_count": null,
      "metadata": {
        "id": "K01ij9af7b-Q"
      },
      "outputs": [],
      "source": [
        "def objective_dt(trial):\n",
        "\n",
        "    X_train, X_val, y_train, y_val = get_data(le=True)\n",
        "\n",
        "    model, y_pred = fit_dt(trial,  X_train, X_val, y_train, y_val)\n",
        "    rmse = np.sqrt(mean_squared_error(y_val, y_pred))\n",
        "\n",
        "    return rmse"
      ]
    },
    {
      "cell_type": "code",
      "execution_count": null,
      "metadata": {
        "id": "vLaUD2zM7b-Q"
      },
      "outputs": [],
      "source": [
        "best_score_dt = 11.132932496849305\n",
        "best_params_dt = {'splitter': 'best', 'max_depth': 40, 'min_samples_split': 19, 'min_samples_leaf': 31,\n",
        "                  'min_weight_fraction_leaf': 0.006610962424412083, 'max_features': 7, 'max_leaf_nodes': 10,\n",
        "                  'min_impurity_decrease': 0.7359758282146736, 'ccp_alpha': 0.9210883454873952}\n",
        "\n",
        "\n",
        "if enable_optuna == True:\n",
        "    study_dt = optuna.create_study(direction=\"minimize\")\n",
        "    study_dt.optimize(objective_dt, n_trials=100,\n",
        "                      n_jobs=-1, show_progress_bar=True,)\n",
        "    params_dt = ['n_neighbors', 'leaf_size',  'weights', 'algorithm', 'p']\n",
        "    optuna_info(params_dt, study_dt)\n",
        "\n",
        "    if study_dt.best_trial.value < best_score_dt:\n",
        "        print(colored('\\n\\n !!! переопределить параметры !!!', 'red'))"
      ]
    },
    {
      "cell_type": "code",
      "execution_count": null,
      "metadata": {
        "colab": {
          "base_uri": "https://localhost:8080/"
        },
        "id": "3ynAiMy27b-Q",
        "outputId": "a3752950-8693-4ce9-cbeb-cd9f1ae34017"
      },
      "outputs": [
        {
          "output_type": "execute_result",
          "data": {
            "text/plain": [
              "11.1329"
            ]
          },
          "metadata": {},
          "execution_count": 82
        }
      ],
      "source": [
        "# Best trial: score 11.132932496849305, params {'splitter': 'best', 'max_depth': 40, 'min_samples_split': 19, 'min_samples_leaf': 31,\n",
        "#'min_weight_fraction_leaf': 0.006610962424412083, 'max_features': 7, 'max_leaf_nodes': 10,\n",
        "#'min_impurity_decrease': 0.7359758282146736, 'ccp_alpha': 0.9210883454873952}\n",
        "\n",
        "X_train, X_val, y_train, y_val = get_data(le=True)\n",
        "\n",
        "dt_model = DecisionTreeRegressor(**best_params_dt,\n",
        "                                 criterion='squared_error',\n",
        "                                 random_state=random_state,\n",
        "                                 )\n",
        "\n",
        "dt_model.fit(X_train, y_train)\n",
        "\n",
        "rmse_dt = np.sqrt(mean_squared_error(y_val, dt_model.predict(X_val)))\n",
        "rmse_dt.round(4)"
      ]
    },
    {
      "cell_type": "code",
      "execution_count": null,
      "metadata": {
        "colab": {
          "base_uri": "https://localhost:8080/"
        },
        "id": "YBh0fOKe7b-R",
        "outputId": "4f718f8b-8973-4ddf-d025-64c1bf9bc5e4"
      },
      "outputs": [
        {
          "output_type": "stream",
          "name": "stdout",
          "text": [
            "CSV file saved!\n"
          ]
        }
      ],
      "source": [
        "test_dataset = get_test_data(le=True)\n",
        "test['target_reg'] = dt_model.predict(test_dataset)\n",
        "\n",
        "file_suffix = 'dt'\n",
        "save_csv(file_suffix)\n",
        "\n",
        "test[f'target_reg_{file_suffix}'] = test['target_reg']"
      ]
    },
    {
      "cell_type": "markdown",
      "metadata": {
        "id": "JGo3sSY37b-R"
      },
      "source": [
        "RMSE вашего решения 12.4"
      ]
    },
    {
      "cell_type": "markdown",
      "metadata": {
        "id": "sPVjGVgY7b-R"
      },
      "source": [
        "## Blending"
      ]
    },
    {
      "cell_type": "markdown",
      "metadata": {
        "id": "ANpVTU0O7b-R"
      },
      "source": [
        "Обучили 7 моделей, посмотрим на их скор на валидации и на тесте. Сблендим лучшие (среднее, медиана, веса), посмотрим на результат\n"
      ]
    },
    {
      "cell_type": "code",
      "execution_count": null,
      "metadata": {
        "colab": {
          "base_uri": "https://localhost:8080/",
          "height": 269
        },
        "id": "W_dF7V2w7b-R",
        "outputId": "8fef8a7b-3f6a-4237-fcbb-f39f5876ab15"
      },
      "outputs": [
        {
          "output_type": "execute_result",
          "data": {
            "text/plain": [
              "  model  rmse_val  rmse_test  dif\n",
              "0    cb      10.6       11.9 -1.3\n",
              "3    rf      11.0       11.9 -0.9\n",
              "2   xgb      11.2       12.0 -0.8\n",
              "1  lgbm      10.5       12.1 -1.6\n",
              "6    dt      11.1       12.4 -1.3\n",
              "4    lr      15.4       15.8 -0.4\n",
              "5    kn      16.1       17.4 -1.3"
            ],
            "text/html": [
              "\n",
              "  <div id=\"df-6a22528f-3d69-43aa-9c3c-ea799c3ab480\">\n",
              "    <div class=\"colab-df-container\">\n",
              "      <div>\n",
              "<style scoped>\n",
              "    .dataframe tbody tr th:only-of-type {\n",
              "        vertical-align: middle;\n",
              "    }\n",
              "\n",
              "    .dataframe tbody tr th {\n",
              "        vertical-align: top;\n",
              "    }\n",
              "\n",
              "    .dataframe thead th {\n",
              "        text-align: right;\n",
              "    }\n",
              "</style>\n",
              "<table border=\"1\" class=\"dataframe\">\n",
              "  <thead>\n",
              "    <tr style=\"text-align: right;\">\n",
              "      <th></th>\n",
              "      <th>model</th>\n",
              "      <th>rmse_val</th>\n",
              "      <th>rmse_test</th>\n",
              "      <th>dif</th>\n",
              "    </tr>\n",
              "  </thead>\n",
              "  <tbody>\n",
              "    <tr>\n",
              "      <th>0</th>\n",
              "      <td>cb</td>\n",
              "      <td>10.6</td>\n",
              "      <td>11.9</td>\n",
              "      <td>-1.3</td>\n",
              "    </tr>\n",
              "    <tr>\n",
              "      <th>3</th>\n",
              "      <td>rf</td>\n",
              "      <td>11.0</td>\n",
              "      <td>11.9</td>\n",
              "      <td>-0.9</td>\n",
              "    </tr>\n",
              "    <tr>\n",
              "      <th>2</th>\n",
              "      <td>xgb</td>\n",
              "      <td>11.2</td>\n",
              "      <td>12.0</td>\n",
              "      <td>-0.8</td>\n",
              "    </tr>\n",
              "    <tr>\n",
              "      <th>1</th>\n",
              "      <td>lgbm</td>\n",
              "      <td>10.5</td>\n",
              "      <td>12.1</td>\n",
              "      <td>-1.6</td>\n",
              "    </tr>\n",
              "    <tr>\n",
              "      <th>6</th>\n",
              "      <td>dt</td>\n",
              "      <td>11.1</td>\n",
              "      <td>12.4</td>\n",
              "      <td>-1.3</td>\n",
              "    </tr>\n",
              "    <tr>\n",
              "      <th>4</th>\n",
              "      <td>lr</td>\n",
              "      <td>15.4</td>\n",
              "      <td>15.8</td>\n",
              "      <td>-0.4</td>\n",
              "    </tr>\n",
              "    <tr>\n",
              "      <th>5</th>\n",
              "      <td>kn</td>\n",
              "      <td>16.1</td>\n",
              "      <td>17.4</td>\n",
              "      <td>-1.3</td>\n",
              "    </tr>\n",
              "  </tbody>\n",
              "</table>\n",
              "</div>\n",
              "      <button class=\"colab-df-convert\" onclick=\"convertToInteractive('df-6a22528f-3d69-43aa-9c3c-ea799c3ab480')\"\n",
              "              title=\"Convert this dataframe to an interactive table.\"\n",
              "              style=\"display:none;\">\n",
              "        \n",
              "  <svg xmlns=\"http://www.w3.org/2000/svg\" height=\"24px\"viewBox=\"0 0 24 24\"\n",
              "       width=\"24px\">\n",
              "    <path d=\"M0 0h24v24H0V0z\" fill=\"none\"/>\n",
              "    <path d=\"M18.56 5.44l.94 2.06.94-2.06 2.06-.94-2.06-.94-.94-2.06-.94 2.06-2.06.94zm-11 1L8.5 8.5l.94-2.06 2.06-.94-2.06-.94L8.5 2.5l-.94 2.06-2.06.94zm10 10l.94 2.06.94-2.06 2.06-.94-2.06-.94-.94-2.06-.94 2.06-2.06.94z\"/><path d=\"M17.41 7.96l-1.37-1.37c-.4-.4-.92-.59-1.43-.59-.52 0-1.04.2-1.43.59L10.3 9.45l-7.72 7.72c-.78.78-.78 2.05 0 2.83L4 21.41c.39.39.9.59 1.41.59.51 0 1.02-.2 1.41-.59l7.78-7.78 2.81-2.81c.8-.78.8-2.07 0-2.86zM5.41 20L4 18.59l7.72-7.72 1.47 1.35L5.41 20z\"/>\n",
              "  </svg>\n",
              "      </button>\n",
              "      \n",
              "  <style>\n",
              "    .colab-df-container {\n",
              "      display:flex;\n",
              "      flex-wrap:wrap;\n",
              "      gap: 12px;\n",
              "    }\n",
              "\n",
              "    .colab-df-convert {\n",
              "      background-color: #E8F0FE;\n",
              "      border: none;\n",
              "      border-radius: 50%;\n",
              "      cursor: pointer;\n",
              "      display: none;\n",
              "      fill: #1967D2;\n",
              "      height: 32px;\n",
              "      padding: 0 0 0 0;\n",
              "      width: 32px;\n",
              "    }\n",
              "\n",
              "    .colab-df-convert:hover {\n",
              "      background-color: #E2EBFA;\n",
              "      box-shadow: 0px 1px 2px rgba(60, 64, 67, 0.3), 0px 1px 3px 1px rgba(60, 64, 67, 0.15);\n",
              "      fill: #174EA6;\n",
              "    }\n",
              "\n",
              "    [theme=dark] .colab-df-convert {\n",
              "      background-color: #3B4455;\n",
              "      fill: #D2E3FC;\n",
              "    }\n",
              "\n",
              "    [theme=dark] .colab-df-convert:hover {\n",
              "      background-color: #434B5C;\n",
              "      box-shadow: 0px 1px 3px 1px rgba(0, 0, 0, 0.15);\n",
              "      filter: drop-shadow(0px 1px 2px rgba(0, 0, 0, 0.3));\n",
              "      fill: #FFFFFF;\n",
              "    }\n",
              "  </style>\n",
              "\n",
              "      <script>\n",
              "        const buttonEl =\n",
              "          document.querySelector('#df-6a22528f-3d69-43aa-9c3c-ea799c3ab480 button.colab-df-convert');\n",
              "        buttonEl.style.display =\n",
              "          google.colab.kernel.accessAllowed ? 'block' : 'none';\n",
              "\n",
              "        async function convertToInteractive(key) {\n",
              "          const element = document.querySelector('#df-6a22528f-3d69-43aa-9c3c-ea799c3ab480');\n",
              "          const dataTable =\n",
              "            await google.colab.kernel.invokeFunction('convertToInteractive',\n",
              "                                                     [key], {});\n",
              "          if (!dataTable) return;\n",
              "\n",
              "          const docLinkHtml = 'Like what you see? Visit the ' +\n",
              "            '<a target=\"_blank\" href=https://colab.research.google.com/notebooks/data_table.ipynb>data table notebook</a>'\n",
              "            + ' to learn more about interactive tables.';\n",
              "          element.innerHTML = '';\n",
              "          dataTable['output_type'] = 'display_data';\n",
              "          await google.colab.output.renderOutput(dataTable, element);\n",
              "          const docLink = document.createElement('div');\n",
              "          docLink.innerHTML = docLinkHtml;\n",
              "          element.appendChild(docLink);\n",
              "        }\n",
              "      </script>\n",
              "    </div>\n",
              "  </div>\n",
              "  "
            ]
          },
          "metadata": {},
          "execution_count": 84
        }
      ],
      "source": [
        "scores = pd.DataFrame()\n",
        "scores['model'] = ['cb','lgbm','xgb','rf','lr','kn','dt']\n",
        "scores['rmse_val'] = [rmse_cb,rmse_lgbm,rmse_xgb,rmse_rf,rmse_lr,rmse_kn,rmse_dt]\n",
        "scores['rmse_test'] = [11.9,12.1,12.0,11.9,15.8,17.4,12.4]\n",
        "scores['dif'] = scores['rmse_val']-scores['rmse_test']\n",
        "scores.round(1).sort_values('rmse_test')"
      ]
    },
    {
      "cell_type": "markdown",
      "metadata": {
        "id": "seyl0HeP7b-R"
      },
      "source": [
        "### Blending среднее"
      ]
    },
    {
      "cell_type": "code",
      "execution_count": null,
      "metadata": {
        "colab": {
          "base_uri": "https://localhost:8080/"
        },
        "id": "F-6VpoLC7b-R",
        "outputId": "713ade2a-4cd7-43ca-a928-fb8d2dc49e30"
      },
      "outputs": [
        {
          "output_type": "stream",
          "name": "stdout",
          "text": [
            "CSV file saved!\n"
          ]
        }
      ],
      "source": [
        "blend_cols = ['target_reg_cb',              #rmse 11.9\n",
        "              'target_reg_lgbm',            #rmse 12.1\n",
        "              #'target_reg_xgb',            #rmse 12.0\n",
        "              'target_reg_rf',              #rmse 11.9\n",
        "              #'target_reg_lr',             #rmse 15.8\n",
        "              #'target_reg_kn',             #rmse 17.4\n",
        "              #'target_reg_dt',             #rmse 12.4\n",
        "            ]\n",
        "\n",
        "test['target_reg'] = test[blend_cols].median(axis=1)\n",
        "\n",
        "file_suffix = 'blend_m'\n",
        "save_csv(file_suffix)\n",
        "\n",
        "test[f'target_reg_{file_suffix}'] = test['target_reg']\n",
        "\n",
        "#RMSE вашего решения 11.8 mean     blend_cols = ['target_reg_xgb', 'target_reg_cb', 'target_reg_rf']\n",
        "#RMSE вашего решения 11.8 median   blend_cols = ['target_reg_lgbm', 'target_reg_cb', 'target_reg_rf']"
      ]
    },
    {
      "cell_type": "markdown",
      "metadata": {
        "id": "alufRr2j7b-R"
      },
      "source": [
        "RMSE вашего решения 11.8 median"
      ]
    },
    {
      "cell_type": "markdown",
      "metadata": {
        "id": "UyHopM517b-R"
      },
      "source": [
        "### Blending с весами"
      ]
    },
    {
      "cell_type": "code",
      "execution_count": null,
      "metadata": {
        "colab": {
          "base_uri": "https://localhost:8080/"
        },
        "id": "vQK6gJzL7b-R",
        "outputId": "277d62df-7ef1-499e-aa92-39433f759fc4"
      },
      "outputs": [
        {
          "output_type": "stream",
          "name": "stdout",
          "text": [
            "ok\n"
          ]
        }
      ],
      "source": [
        "w_cb = 0.4      #rmse 11.9\n",
        "w_lgbm = 0.4    #rmse 12.1\n",
        "w_xgb = 0       #rmse 12.0\n",
        "w_rf =  0.2     #rmse 11.9\n",
        "w_lr = 0        #rmse 15.8\n",
        "w_kn = 0        #rmse 17.4\n",
        "w_dt = 0        #rmse 12.4\n",
        "\n",
        "check_w = round(w_cb+w_lgbm+w_xgb+w_rf+w_lr+w_kn+w_dt, 4)\n",
        "if check_w != 1.:\n",
        "    print(colored(\"!!!проверить веса!!!\", 'red'), check_w-1)\n",
        "else:\n",
        "    print('ok')"
      ]
    },
    {
      "cell_type": "code",
      "execution_count": null,
      "metadata": {
        "colab": {
          "base_uri": "https://localhost:8080/"
        },
        "id": "EpuinNDh7b-R",
        "outputId": "e7b668af-eb59-4824-dbe7-fdf44d36201c"
      },
      "outputs": [
        {
          "output_type": "stream",
          "name": "stdout",
          "text": [
            "CSV file saved!\n"
          ]
        }
      ],
      "source": [
        "test['target_reg'] = (test['target_reg_cb'] * w_cb +\n",
        "                      test['target_reg_lgbm'] * w_lgbm +\n",
        "                      test['target_reg_xgb'] * w_xgb +\n",
        "                      test['target_reg_rf'] * w_rf +\n",
        "                      test['target_reg_lr'] * w_lr +\n",
        "                      test['target_reg_kn'] * w_kn +\n",
        "                      test['target_reg_dt'] * w_dt\n",
        "                      )\n",
        "\n",
        "\n",
        "file_suffix = 'blend_w'\n",
        "save_csv(file_suffix)\n",
        "\n",
        "test[f'target_reg_{file_suffix}'] = test['target_reg']"
      ]
    },
    {
      "cell_type": "markdown",
      "metadata": {
        "id": "OA03Xq_07b-R"
      },
      "source": [
        "RMSE вашего решения 11.8 w"
      ]
    },
    {
      "cell_type": "markdown",
      "metadata": {
        "id": "cqvv0NaS7b-R"
      },
      "source": [
        "## Stacking"
      ]
    },
    {
      "cell_type": "markdown",
      "metadata": {
        "id": "7ZR3Q5zo7b-R"
      },
      "source": [
        "### StackingRegressor"
      ]
    },
    {
      "cell_type": "markdown",
      "metadata": {
        "id": "vh62fute7b-S"
      },
      "source": [
        "Попробуем Pipeline и StackingRegressor.\n",
        "\n",
        "Трансформер для предобработки данных - StandardScaler и OneHotEncoder"
      ]
    },
    {
      "cell_type": "code",
      "execution_count": null,
      "metadata": {
        "id": "EyUbkK8B7b-S"
      },
      "outputs": [],
      "source": [
        "cat_transformer_ohe = Pipeline(steps=[\n",
        "    (\"imputer\", SimpleImputer(strategy='most_frequent')),\n",
        "    (\"onehot\", OneHotEncoder(handle_unknown=\"ignore\"))])\n",
        "\n",
        "numerical_transformer = Pipeline(steps=[\n",
        "    (\"imputer\", SimpleImputer()),\n",
        "    (\"scaler\", StandardScaler())\n",
        "])\n",
        "\n",
        "preprocessor_ohe = ColumnTransformer(transformers=[\n",
        "    (\"numerical\", numerical_transformer, num_features),\n",
        "    (\"categorical\", cat_transformer_ohe, cat_features)])"
      ]
    },
    {
      "cell_type": "markdown",
      "metadata": {
        "id": "fHKjB1Sk7b-S"
      },
      "source": [
        "Модели для stackingа"
      ]
    },
    {
      "cell_type": "code",
      "execution_count": null,
      "metadata": {
        "code_folding": [
          50
        ],
        "id": "17c3FO-D7b-S"
      },
      "outputs": [],
      "source": [
        "estimators = [#('lr ', make_pipeline(preprocessor_ohe,\n",
        "#                                     LinearRegression(fit_intercept=False,\n",
        "#                                                      positive=False))),\n",
        "\n",
        "              ('svr', make_pipeline(preprocessor_ohe,\n",
        "                                    LinearSVR(random_state=random_state,))),\n",
        "\n",
        "#               ('rcv', make_pipeline(preprocessor_ohe,\n",
        "#                                     RidgeCV(alphas=[1e-3, 1e-2, 1e-1, 1]))),\n",
        "\n",
        "              ('dt ', DecisionTreeRegressor(**best_params_dt,\n",
        "                                            criterion='squared_error',\n",
        "                                            random_state=random_state,)),\n",
        "\n",
        "              ('rf ', RandomForestRegressor(**best_params_rf,\n",
        "                                            criterion='squared_error',\n",
        "                                            n_jobs=-1,\n",
        "                                            random_state=random_state,)),\n",
        "\n",
        "#               ('kn ', KNeighborsRegressor(**best_params_kn,\n",
        "#                                           n_jobs=-1,\n",
        "#                                           metric='minkowski',)),\n",
        "\n",
        "#               ('cb ', cb.CatBoostRegressor(**best_params_cb,\n",
        "#                                            n_estimators=9,#cb_model.get_best_iteration(),\n",
        "#                                            cat_features=cat_features,\n",
        "#                                            thread_count=-1,\n",
        "#                                            random_seed=random_state,\n",
        "#                                            eval_metric='RMSE',\n",
        "#                                            verbose=0,)),\n",
        "\n",
        "              ('lgb', lgb.LGBMRegressor(**best_params_lgbm,\n",
        "                                        n_estimators=lgbm_model.best_iteration_,\n",
        "                                        n_jobs=-1,\n",
        "                                        objective=\"rmse\",\n",
        "                                        random_state=random_state,\n",
        "                                        cat_feature=cat_features_index,)),\n",
        "\n",
        "#               ('xgb', xgb.XGBRegressor(**best_params_xgb,\n",
        "#                                        n_estimators=xgb_model.best_iteration+1,\n",
        "#                                        random_state=random_state,\n",
        "#                                        tree_method='hist',\n",
        "#                                        objective='reg:squarederror',\n",
        "#                                        eval_metric='rmse',\n",
        "#                                        n_jobs=-1,))\n",
        "               ]\n",
        "\n",
        "\n",
        "stacking_reg = StackingRegressor(estimators=estimators,\n",
        "                                 final_estimator=SVR(),\n",
        "#                                  final_estimator=cb.CatBoostRegressor(**best_params_cb_st,\n",
        "#                                                                       thread_count=-1,\n",
        "#                                                                       random_seed=random_state,\n",
        "#                                                                       eval_metric='RMSE',\n",
        "#                                                                       verbose=0,)\n",
        "                                )"
      ]
    },
    {
      "cell_type": "code",
      "execution_count": null,
      "metadata": {
        "colab": {
          "base_uri": "https://localhost:8080/"
        },
        "id": "Qtc24LIt7b-S",
        "outputId": "6699e933-5c92-4651-ae0d-6d26ff80c159"
      },
      "outputs": [
        {
          "output_type": "stream",
          "name": "stdout",
          "text": [
            "stacking_reg rmse: 10.8003\n"
          ]
        }
      ],
      "source": [
        "X_train, X_val, y_train, y_val = get_data(le=True)\n",
        "\n",
        "stacking_reg.fit(X_train, y_train)\n",
        "\n",
        "print('stacking_reg rmse:', round(np.sqrt(mean_squared_error(y_val, stacking_reg.predict(X_val))), 4))"
      ]
    },
    {
      "cell_type": "code",
      "execution_count": null,
      "metadata": {
        "colab": {
          "base_uri": "https://localhost:8080/"
        },
        "id": "LwyXJ7VH7b-S",
        "outputId": "fb4212f1-53ca-4a2b-a77d-a427c40d9a7c"
      },
      "outputs": [
        {
          "output_type": "stream",
          "name": "stdout",
          "text": [
            "svr rmse:  13.9556\n",
            "dt  rmse:  11.1329\n",
            "rf  rmse:  11.0018\n",
            "lgb rmse:  10.5197\n"
          ]
        }
      ],
      "source": [
        "corr_df = pd.DataFrame()\n",
        "\n",
        "for model, (name, _) in zip(stacking_reg.estimators_, stacking_reg.estimators):\n",
        "    preprocessed = stacking_reg.estimators[0][1].fit(X_train, y_train)\n",
        "    print(name, 'rmse: ', round(\n",
        "        np.sqrt(mean_squared_error(model.predict(X_val), y_val)), 4))\n",
        "\n",
        "    corr_df[name] = model.predict(X_val)\n",
        "\n",
        "# lr  rmse:  14.0187\n",
        "# svr rmse:  13.9556\n",
        "# rcv rmse:  13.9914\n",
        "# dt  rmse:  11.1329\n",
        "# rf  rmse:  11.0018\n",
        "# kn  rmse:  16.1416\n",
        "# cb  rmse:  10.9866\n",
        "# lgb rmse:  10.5197\n",
        "# xgb rmse:  10.7614"
      ]
    },
    {
      "cell_type": "markdown",
      "metadata": {
        "id": "C2F0GW907b-S"
      },
      "source": [
        "Оставили наименее коррелирующие модели."
      ]
    },
    {
      "cell_type": "code",
      "execution_count": null,
      "metadata": {
        "colab": {
          "base_uri": "https://localhost:8080/",
          "height": 175
        },
        "id": "14KEAZIE7b-S",
        "outputId": "2f454f12-1fd6-449b-b218-0eb20de7028b"
      },
      "outputs": [
        {
          "output_type": "execute_result",
          "data": {
            "text/plain": [
              "<pandas.io.formats.style.Styler at 0x7f84cd620970>"
            ],
            "text/html": [
              "<style type=\"text/css\">\n",
              "#T_c434f_row0_col0, #T_c434f_row1_col1, #T_c434f_row2_col2, #T_c434f_row3_col3 {\n",
              "  background-color: #ffff66;\n",
              "  color: #000000;\n",
              "}\n",
              "#T_c434f_row0_col1, #T_c434f_row0_col2, #T_c434f_row0_col3, #T_c434f_row1_col0 {\n",
              "  background-color: #008066;\n",
              "  color: #f1f1f1;\n",
              "}\n",
              "#T_c434f_row1_col2 {\n",
              "  background-color: #daec66;\n",
              "  color: #000000;\n",
              "}\n",
              "#T_c434f_row1_col3 {\n",
              "  background-color: #c7e366;\n",
              "  color: #000000;\n",
              "}\n",
              "#T_c434f_row2_col0 {\n",
              "  background-color: #178b66;\n",
              "  color: #f1f1f1;\n",
              "}\n",
              "#T_c434f_row2_col1 {\n",
              "  background-color: #deee66;\n",
              "  color: #000000;\n",
              "}\n",
              "#T_c434f_row2_col3 {\n",
              "  background-color: #e4f266;\n",
              "  color: #000000;\n",
              "}\n",
              "#T_c434f_row3_col0 {\n",
              "  background-color: #209066;\n",
              "  color: #f1f1f1;\n",
              "}\n",
              "#T_c434f_row3_col1 {\n",
              "  background-color: #cee666;\n",
              "  color: #000000;\n",
              "}\n",
              "#T_c434f_row3_col2 {\n",
              "  background-color: #e5f266;\n",
              "  color: #000000;\n",
              "}\n",
              "</style>\n",
              "<table id=\"T_c434f\" class=\"dataframe\">\n",
              "  <thead>\n",
              "    <tr>\n",
              "      <th class=\"blank level0\" >&nbsp;</th>\n",
              "      <th id=\"T_c434f_level0_col0\" class=\"col_heading level0 col0\" >svr</th>\n",
              "      <th id=\"T_c434f_level0_col1\" class=\"col_heading level0 col1\" >dt </th>\n",
              "      <th id=\"T_c434f_level0_col2\" class=\"col_heading level0 col2\" >rf </th>\n",
              "      <th id=\"T_c434f_level0_col3\" class=\"col_heading level0 col3\" >lgb</th>\n",
              "    </tr>\n",
              "  </thead>\n",
              "  <tbody>\n",
              "    <tr>\n",
              "      <th id=\"T_c434f_level0_row0\" class=\"row_heading level0 row0\" >svr</th>\n",
              "      <td id=\"T_c434f_row0_col0\" class=\"data row0 col0\" >1.000000</td>\n",
              "      <td id=\"T_c434f_row0_col1\" class=\"data row0 col1\" >0.634328</td>\n",
              "      <td id=\"T_c434f_row0_col2\" class=\"data row0 col2\" >0.667317</td>\n",
              "      <td id=\"T_c434f_row0_col3\" class=\"data row0 col3\" >0.681073</td>\n",
              "    </tr>\n",
              "    <tr>\n",
              "      <th id=\"T_c434f_level0_row1\" class=\"row_heading level0 row1\" >dt </th>\n",
              "      <td id=\"T_c434f_row1_col0\" class=\"data row1 col0\" >0.634328</td>\n",
              "      <td id=\"T_c434f_row1_col1\" class=\"data row1 col1\" >1.000000</td>\n",
              "      <td id=\"T_c434f_row1_col2\" class=\"data row1 col2\" >0.951802</td>\n",
              "      <td id=\"T_c434f_row1_col3\" class=\"data row1 col3\" >0.929865</td>\n",
              "    </tr>\n",
              "    <tr>\n",
              "      <th id=\"T_c434f_level0_row2\" class=\"row_heading level0 row2\" >rf </th>\n",
              "      <td id=\"T_c434f_row2_col0\" class=\"data row2 col0\" >0.667317</td>\n",
              "      <td id=\"T_c434f_row2_col1\" class=\"data row2 col1\" >0.951802</td>\n",
              "      <td id=\"T_c434f_row2_col2\" class=\"data row2 col2\" >1.000000</td>\n",
              "      <td id=\"T_c434f_row2_col3\" class=\"data row2 col3\" >0.965202</td>\n",
              "    </tr>\n",
              "    <tr>\n",
              "      <th id=\"T_c434f_level0_row3\" class=\"row_heading level0 row3\" >lgb</th>\n",
              "      <td id=\"T_c434f_row3_col0\" class=\"data row3 col0\" >0.681073</td>\n",
              "      <td id=\"T_c434f_row3_col1\" class=\"data row3 col1\" >0.929865</td>\n",
              "      <td id=\"T_c434f_row3_col2\" class=\"data row3 col2\" >0.965202</td>\n",
              "      <td id=\"T_c434f_row3_col3\" class=\"data row3 col3\" >1.000000</td>\n",
              "    </tr>\n",
              "  </tbody>\n",
              "</table>\n"
            ]
          },
          "metadata": {},
          "execution_count": 92
        }
      ],
      "source": [
        "corr_df.corr().style.background_gradient(cmap=\"summer\")"
      ]
    },
    {
      "cell_type": "code",
      "execution_count": null,
      "metadata": {
        "colab": {
          "base_uri": "https://localhost:8080/"
        },
        "id": "lbquNSRb7b-S",
        "outputId": "cad881d6-0cbb-4746-fa90-a1ecfcb4b66f"
      },
      "outputs": [
        {
          "output_type": "stream",
          "name": "stdout",
          "text": [
            "CSV file saved!\n"
          ]
        }
      ],
      "source": [
        "test['target_reg'] = stacking_reg.predict(get_test_data(le=True))\n",
        "\n",
        "file_suffix = 'stacking_reg'\n",
        "save_csv(file_suffix)\n",
        "\n",
        "test[f'target_reg_{file_suffix}'] = test['target_reg']"
      ]
    },
    {
      "cell_type": "markdown",
      "metadata": {
        "id": "Yc0iKjfy7b-S"
      },
      "source": [
        "RMSE вашего решения 11.9"
      ]
    },
    {
      "cell_type": "markdown",
      "metadata": {
        "id": "zVh-VUbR7b-S"
      },
      "source": [
        "### Stacking GetPreds"
      ]
    },
    {
      "cell_type": "markdown",
      "metadata": {
        "id": "B3a9s3wT7b-S"
      },
      "source": [
        "Попробуем сделать stacking своими руками =)\n",
        "\n",
        "Возьмем 4 ранее созданные модели получим предсказания для обучающей выборки\n",
        "Далее поробуем в качестве метамодели разные модельки"
      ]
    },
    {
      "cell_type": "code",
      "execution_count": null,
      "metadata": {
        "id": "kwaoRCpr7b-S"
      },
      "outputs": [],
      "source": [
        "def GetPreds(X, y, X_test, model, n_fold=5):\n",
        "    test = X_test\n",
        "    model.fit(X, y)\n",
        "    test_preds = model.predict(test)\n",
        "\n",
        "    folds = KFold(n_splits=n_fold)\n",
        "    preds = np.empty((0, 1), float)\n",
        "    z = pd.DataFrame(data=y)\n",
        "\n",
        "    for i, (train_indices, val_indices) in enumerate(folds.split(X, z)):\n",
        "        X_train, X_test = X.iloc[train_indices], X.iloc[val_indices]\n",
        "        y_train, y_test = z.iloc[train_indices], z.iloc[val_indices]\n",
        "\n",
        "        model.fit(X_train, y_train)\n",
        "        pred = model.predict(X_test)\n",
        "        preds = np.append(preds, pred)\n",
        "\n",
        "    return preds.reshape(len(X), 1), test_preds.reshape(len(test), 1)"
      ]
    },
    {
      "cell_type": "code",
      "execution_count": null,
      "metadata": {
        "id": "Vr_ShfOh7b-T"
      },
      "outputs": [],
      "source": [
        "X_train_full_stack, y_train_full_stack = get_data(le=True, full=True)\n",
        "test_stack = get_test_data(le=True)\n",
        "\n",
        "X_, y_ = get_data(pool=True, full=True)\n",
        "X_train_full_stack['target_cb'],  test_stack['target_cb'] = GetPreds(X_, y_, get_test_data(),\n",
        "                                                                     cb.CatBoostRegressor(**best_params_cb,\n",
        "                                                                                          n_estimators=cb_model.get_best_iteration(),\n",
        "                                                                                          cat_features=cat_features,\n",
        "                                                                                          thread_count=-1,\n",
        "                                                                                          random_seed=random_state,\n",
        "                                                                                          eval_metric='RMSE',\n",
        "                                                                                          verbose=0,))\n",
        "\n",
        "\n",
        "X_, y_ = get_data(le=True, full=True)\n",
        "X_train_full_stack['target_lgbm'],  test_stack['target_lgbm'] = GetPreds(X_, y_, get_test_data(le=True),\n",
        "                                                                         lgb.LGBMRegressor(**best_params_lgbm,\n",
        "                                                                                           n_estimators=lgbm_model.best_iteration_,\n",
        "                                                                                           n_jobs=-1,\n",
        "                                                                                           objective=\"rmse\",\n",
        "                                                                                           random_state=random_state,\n",
        "                                                                                           cat_feature=cat_features_index,))\n",
        "\n",
        "X_train_full_stack['target_rf'],  test_stack['target_rf'] = GetPreds(X_, y_, get_test_data(le=True),\n",
        "                                                                     RandomForestRegressor(**best_params_rf,\n",
        "                                                                                           criterion='squared_error',\n",
        "                                                                                           n_jobs=-1,\n",
        "                                                                                           random_state=random_state,))\n",
        "\n",
        "\n",
        "X_train_full_stack['target_xgb'],  test_stack['target_xgb'] = GetPreds(X_, y_, get_test_data(le=True),\n",
        "                                                                       xgb.XGBRegressor(**best_params_xgb,\n",
        "                                                                                        n_estimators=xgb_model.best_iteration+1,\n",
        "                                                                                        random_state=random_state,\n",
        "                                                                                        tree_method='hist',\n",
        "                                                                                        objective='reg:squarederror',\n",
        "                                                                                        eval_metric='rmse',\n",
        "                                                                                        n_jobs=-1,))\n",
        "\n"
      ]
    },
    {
      "cell_type": "markdown",
      "metadata": {
        "id": "XtVjjoro7b-T"
      },
      "source": [
        "Добавим фичей помимо прогноза моделей. Среднее, медианы, разницы между прогнозными таргетами."
      ]
    },
    {
      "cell_type": "code",
      "execution_count": null,
      "metadata": {
        "id": "gupBPKMC7b-T"
      },
      "outputs": [],
      "source": [
        "cols_target = ['target_lgbm', 'target_rf', 'target_xgb', 'target_cb']\n",
        "\n",
        "X_train_full_stack['target_median'] = X_train_full_stack[cols_target].median(axis=1)\n",
        "X_train_full_stack['target_mean'] = X_train_full_stack[cols_target].mean(axis=1)\n",
        "test_stack['target_median'] = test_stack[cols_target].median(axis=1)\n",
        "test_stack['target_mean'] = test_stack[cols_target].mean(axis=1)"
      ]
    },
    {
      "cell_type": "code",
      "execution_count": null,
      "metadata": {
        "id": "dC09HjjU7b-T"
      },
      "outputs": [],
      "source": [
        "model_names = ['lgbm', 'rf', 'xgb', 'cb']\n",
        "\n",
        "for i in range(len(model_names)):\n",
        "    for j in range(len(model_names)):\n",
        "\n",
        "        X_train_full_stack[f'{model_names[i]}_div_{model_names[j]}'] = \\\n",
        "            X_train_full_stack['target_' + model_names[i]] / \\\n",
        "            X_train_full_stack['target_' + model_names[j]]\n",
        "        X_train_full_stack[f'{model_names[i]}_dif_{model_names[j]}'] = \\\n",
        "            X_train_full_stack['target_' + model_names[i]] - \\\n",
        "            X_train_full_stack['target_' + model_names[j]]\n",
        "\n",
        "        test_stack[f'{model_names[i]}_div_{model_names[j]}'] = test_stack['target_' +\n",
        "                                                                          model_names[i]] / test_stack['target_' + model_names[j]]\n",
        "        test_stack[f'{model_names[i]}_dif_{model_names[j]}'] = test_stack['target_' +\n",
        "                                                                          model_names[i]] - test_stack['target_' + model_names[j]]"
      ]
    },
    {
      "cell_type": "markdown",
      "metadata": {
        "id": "8R3zmRQe7b-T"
      },
      "source": [
        "#### ST KNeighborsRegressor"
      ]
    },
    {
      "cell_type": "code",
      "execution_count": null,
      "metadata": {
        "id": "afq8x_-M7b-T"
      },
      "outputs": [],
      "source": [
        "def fit_kn_st(trial, X_train, X_val, y_train, y_val):\n",
        "\n",
        "    param = {\"n_neighbors\": trial.suggest_int(\"n_neighbors\", 700, 800),\n",
        "             \"leaf_size\": trial.suggest_int(\"leaf_size\", 1, 50),\n",
        "             \"weights\": trial.suggest_categorical(\"weights\", [\"uniform\", \"distance\"]),\n",
        "             \"algorithm\": trial.suggest_categorical(\"algorithm\", ['auto', 'ball_tree', 'kd_tree', 'brute']),\n",
        "             \"p\": trial.suggest_int(\"p\", 1, 2),\n",
        "             }\n",
        "\n",
        "    kn_model = KNeighborsRegressor(**param,\n",
        "                                   n_jobs=-1,\n",
        "                                   metric='minkowski',\n",
        "                                   )\n",
        "\n",
        "    kn_model.fit(X_train, y_train)\n",
        "\n",
        "    y_pred = kn_model.predict(X_val)\n",
        "    rmse = np.sqrt(mean_squared_error(y_val, y_pred))\n",
        "\n",
        "    return kn_model, y_pred"
      ]
    },
    {
      "cell_type": "code",
      "execution_count": null,
      "metadata": {
        "id": "kmrVQvoy7b-T"
      },
      "outputs": [],
      "source": [
        "def objective_kn_st(trial):\n",
        "\n",
        "    X_train, X_val, y_train, y_val = train_test_split(X_train_full_stack,\n",
        "                                                      y_train_full_stack,\n",
        "                                                      test_size=0.2,\n",
        "                                                      random_state=random_state)\n",
        "\n",
        "    model, y_pred = fit_kn_st(trial,  X_train, X_val, y_train, y_val)\n",
        "    rmse = np.sqrt(mean_squared_error(y_val, y_pred))\n",
        "\n",
        "    return rmse"
      ]
    },
    {
      "cell_type": "code",
      "execution_count": null,
      "metadata": {
        "id": "NL1twWxT7b-T"
      },
      "outputs": [],
      "source": [
        "best_score_kn_st = 16.141646215339\n",
        "best_params_kn_st = {'n_neighbors': 794, 'leaf_size': 39, 'weights': 'uniform', 'algorithm': 'brute', 'p': 2}\n",
        "\n",
        "if enable_optuna == True:\n",
        "    study_kn_st = optuna.create_study(direction=\"minimize\")\n",
        "    study_kn_st.optimize(objective_kn_st, n_trials=100,\n",
        "                         n_jobs=-1, show_progress_bar=True,)\n",
        "    params_kn_st = ['n_neighbors', 'leaf_size',  'weights', 'algorithm', 'p']\n",
        "    optuna_info(params_kn_st, study_kn_st, True)\n",
        "\n",
        "    if study_kn_st.best_trial.value < best_score_kn_st:\n",
        "        print(colored('\\n\\n !!! переопределить параметры !!!', 'red'))"
      ]
    },
    {
      "cell_type": "code",
      "execution_count": null,
      "metadata": {
        "colab": {
          "base_uri": "https://localhost:8080/"
        },
        "id": "m0fKTn9v7b-T",
        "outputId": "aab09100-0889-4f3a-ca53-195d1328a321"
      },
      "outputs": [
        {
          "output_type": "stream",
          "name": "stdout",
          "text": [
            "CSV file saved!\n"
          ]
        }
      ],
      "source": [
        "# Best trial: score 16.141646215339, params {'n_neighbors': 794, 'leaf_size': 39, 'weights': 'uniform', 'algorithm': 'brute', 'p': 2}\n",
        "kn_model_st = KNeighborsRegressor(**best_params_kn_st,\n",
        "                                  n_jobs=-1,\n",
        "                                  metric='minkowski'\n",
        "                                  )\n",
        "\n",
        "kn_model_st.fit(X_train_full_stack, y_train_full_stack)\n",
        "\n",
        "test['target_reg'] = kn_model_st.predict(test_stack)\n",
        "\n",
        "file_suffix = 'stack_kn'\n",
        "save_csv(file_suffix)\n",
        "\n",
        "test[f'target_reg_{file_suffix}'] = test['target_reg']"
      ]
    },
    {
      "cell_type": "markdown",
      "metadata": {
        "id": "ybHJZOLG7b-T"
      },
      "source": [
        "RMSE вашего решения 17.4"
      ]
    },
    {
      "cell_type": "markdown",
      "metadata": {
        "id": "8elQBanF7b-T"
      },
      "source": [
        "#### ST CatBoostRegressor\n"
      ]
    },
    {
      "cell_type": "code",
      "execution_count": null,
      "metadata": {
        "id": "wgD8EqIs7b-T"
      },
      "outputs": [],
      "source": [
        "def fit_catboost_st(trial, X_train, X_val, y_train, y_val):\n",
        "\n",
        "    param = {'iterations': 1000,\n",
        "             \"learning_rate\": trial.suggest_float(\"learning_rate\", 0.001, 0.75),\n",
        "             \"l2_leaf_reg\": trial.suggest_float(\"l2_leaf_reg\", 0, 1),\n",
        "             \"colsample_bylevel\": trial.suggest_float(\"colsample_bylevel\", 0.7, 1),\n",
        "             \"depth\": trial.suggest_int(\"depth\", 1, 15), # ,\"Plain\"]),\n",
        "             \"boosting_type\": trial.suggest_categorical(\"boosting_type\", [\"Ordered\"]), # ,\"Bayesian\", \"Bernoulli\", 'MVS']),\n",
        "             \"bootstrap_type\": trial.suggest_categorical(\"bootstrap_type\", ['No']),\n",
        "             \"min_child_samples\": trial.suggest_int('min_child_samples', 1, 16),\n",
        "             }\n",
        "\n",
        "    if param[\"bootstrap_type\"] == \"Bayesian\":\n",
        "        param[\"bagging_temperature\"] = trial.suggest_float(\"bagging_temperature\", 0, 20)\n",
        "\n",
        "    elif param[\"bootstrap_type\"] == \"Bernoulli\":\n",
        "        param[\"subsample\"] = trial.suggest_float(\"subsample\", 0.1, 1)\n",
        "\n",
        "    cb_model = cb.CatBoostRegressor(**param,\n",
        "                                    thread_count=-1,\n",
        "                                    random_seed=random_state,\n",
        "                                    cat_features=cat_features,\n",
        "                                    eval_metric=\"RMSE\",\n",
        "                                    use_best_model=True,\n",
        "                                    )\n",
        "\n",
        "    pruning_callback = optuna.integration.CatBoostPruningCallback(trial, \"RMSE\")\n",
        "\n",
        "    cb_model.fit(X_train, y_train,\n",
        "                 eval_set=(X_val, y_val),\n",
        "                 verbose=0,\n",
        "                 plot=False,\n",
        "                 early_stopping_rounds=50,\n",
        "                 callbacks=[pruning_callback],\n",
        "                 )\n",
        "\n",
        "    pruning_callback.check_pruned()\n",
        "\n",
        "    y_pred = cb_model.predict(X_val)\n",
        "    rmse = np.sqrt(mean_squared_error(y_val, y_pred))\n",
        "\n",
        "    return cb_model, y_pred"
      ]
    },
    {
      "cell_type": "code",
      "execution_count": null,
      "metadata": {
        "id": "Msgp0CZf7b-U"
      },
      "outputs": [],
      "source": [
        "def objective_cb_st(trial):\n",
        "\n",
        "    X_train, X_val, y_train, y_val = train_test_split(X_train_full_stack, y_train_full_stack, test_size=0.2, random_state=random_state)\n",
        "\n",
        "    model, y_pred = fit_catboost_st(trial, X_train, X_val, y_train, y_val)\n",
        "    rmse = np.sqrt(mean_squared_error(y_val, y_pred))\n",
        "\n",
        "    return rmse"
      ]
    },
    {
      "cell_type": "code",
      "execution_count": null,
      "metadata": {
        "id": "j5_Ddr2O7b-U"
      },
      "outputs": [],
      "source": [
        "best_score_cb_st = 10.517113899663983\n",
        "best_params_cb_st = {'learning_rate': 0.4805403885222512, 'l2_leaf_reg': 0.8402307332875907, 'colsample_bylevel': 0.7704124007360537,\n",
        "                  'depth': 3, 'boosting_type': 'Ordered', 'bootstrap_type': 'No', 'min_child_samples': 6}\n",
        "\n",
        "if enable_optuna==True:\n",
        "    study_cb_st = optuna.create_study(direction=\"minimize\", pruner=optuna.pruners.MedianPruner(n_warmup_steps=5))\n",
        "    study_cb_st.optimize(objective_cb_st, n_trials=1000, n_jobs = -1, show_progress_bar=True,)\n",
        "    params_cb_st = ['l2_leaf_reg', 'colsample_bylevel',  'depth', 'bootstrap_type', 'boosting_type', \"learning_rate\"]#, 'min_child_samples']\n",
        "    optuna_info(params_cb_st, study_cb_st)\n",
        "\n",
        "    if study_cb_st.best_trial.value < best_score_cb_st:\n",
        "        print(colored('\\n\\n !!! переопределить параметры !!!', 'red'))"
      ]
    },
    {
      "cell_type": "code",
      "execution_count": null,
      "metadata": {
        "colab": {
          "base_uri": "https://localhost:8080/"
        },
        "id": "tuADXFmR7b-U",
        "outputId": "c0bdadc5-b105-4fa6-88b1-c85f994083da"
      },
      "outputs": [
        {
          "output_type": "stream",
          "name": "stdout",
          "text": [
            "CSV file saved!\n"
          ]
        }
      ],
      "source": [
        "# Best trial: score 10.517113899663983, params {'learning_rate': 0.4805403885222512, 'l2_leaf_reg': 0.8402307332875907,\n",
        "# 'colsample_bylevel': 0.7704124007360537, 'depth': 3, 'boosting_type': 'Ordered', 'bootstrap_type': 'No', 'min_child_samples': 6}\n",
        "\n",
        "X_train, X_val, y_train, y_val = train_test_split(\n",
        "    X_train_full_stack, y_train_full_stack, test_size=0.2, random_state=random_state)\n",
        "\n",
        "cb_stack = cb.CatBoostRegressor(**best_params_cb_st,\n",
        "                                thread_count=-1,\n",
        "                                random_seed=random_state,\n",
        "                                cat_features=cat_features,\n",
        "                                eval_metric='RMSE',\n",
        "                                verbose=0,\n",
        "                                )\n",
        "\n",
        "cb_stack.fit(X_train,y_train,\n",
        "             eval_set=(X_val,y_val),\n",
        "             verbose_eval=0,\n",
        "             plot=False,\n",
        "             early_stopping_rounds=50,\n",
        ")\n",
        "\n",
        "\n",
        "test['target_reg'] = cb_stack.predict(test_stack)\n",
        "\n",
        "file_suffix = 'stack_cb'\n",
        "save_csv(file_suffix)\n",
        "\n",
        "test[f'target_reg_{file_suffix}'] = test['target_reg']"
      ]
    },
    {
      "cell_type": "markdown",
      "metadata": {
        "id": "uZiMzjZY7b-U"
      },
      "source": [
        "RMSE вашего решения 12.0"
      ]
    },
    {
      "cell_type": "markdown",
      "metadata": {
        "id": "V2xbaWiH7b-U"
      },
      "source": [
        "#### ST LinearRegression"
      ]
    },
    {
      "cell_type": "code",
      "execution_count": null,
      "metadata": {
        "id": "5xC72Lwf7b-U"
      },
      "outputs": [],
      "source": [
        "enc = OneHotEncoder(handle_unknown='ignore')\n",
        "enc.fit(X_train_full_stack)\n",
        "X_train_full_stack_ohe = enc.transform(X_train_full_stack)\n",
        "test_stack_ohe = enc.transform(test_stack).toarray()"
      ]
    },
    {
      "cell_type": "code",
      "execution_count": null,
      "metadata": {
        "colab": {
          "base_uri": "https://localhost:8080/"
        },
        "id": "m55Qx3Xw7b-U",
        "outputId": "df6beee7-5d23-42ad-fc2d-d617dbbb52a3"
      },
      "outputs": [
        {
          "output_type": "stream",
          "name": "stdout",
          "text": [
            "CSV file saved!\n"
          ]
        }
      ],
      "source": [
        "lr_stack = LinearRegression()\n",
        "\n",
        "lr_stack.fit(X_train_full_stack_ohe, y_train_full_stack)\n",
        "\n",
        "test['target_reg'] = lr_stack.predict(test_stack_ohe)\n",
        "\n",
        "file_suffix = 'stack_lr'\n",
        "save_csv(file_suffix)\n",
        "\n",
        "test[f'target_reg_{file_suffix}'] = test['target_reg']"
      ]
    },
    {
      "cell_type": "markdown",
      "metadata": {
        "id": "gKk7xKsO7b-U"
      },
      "source": [
        "RMSE вашего решения 15.9"
      ]
    },
    {
      "cell_type": "markdown",
      "metadata": {
        "id": "bNznKFmi7b-U"
      },
      "source": [
        "## Blending Stacking"
      ]
    },
    {
      "cell_type": "markdown",
      "metadata": {
        "id": "_nSYilQI7b-U"
      },
      "source": [
        "Сведем все результаты в итоговую таблицу и попробуем сделать блендинг стекинга и блендинга."
      ]
    },
    {
      "cell_type": "code",
      "execution_count": null,
      "metadata": {
        "id": "vtndiV1Y7b-U"
      },
      "outputs": [],
      "source": [
        "scores.loc[len(scores.index)] = ['blend_median',0,11.8,0]\n",
        "scores.loc[len(scores.index)] = ['blend_w',0,11.8,0]\n",
        "scores.loc[len(scores.index)] = ['vecstack',0,15.5,0]\n",
        "scores.loc[len(scores.index)] = ['stacking_reg',0,11.9,0]\n",
        "scores.loc[len(scores.index)] = ['stack_kn',0,17.4,0]\n",
        "scores.loc[len(scores.index)] = ['stack_cb',0,12.0,0]\n",
        "scores.loc[len(scores.index)] = ['stack_lr',0,15.9,0]"
      ]
    },
    {
      "cell_type": "code",
      "execution_count": null,
      "metadata": {
        "colab": {
          "base_uri": "https://localhost:8080/",
          "height": 488
        },
        "id": "qJtac0qv7b-U",
        "outputId": "75919858-e332-435e-c8b5-492bf2283690"
      },
      "outputs": [
        {
          "output_type": "execute_result",
          "data": {
            "text/plain": [
              "           model  rmse_val  rmse_test  dif\n",
              "7   blend_median       0.0       11.8  0.0\n",
              "8        blend_w       0.0       11.8  0.0\n",
              "0             cb      10.6       11.9 -1.3\n",
              "3             rf      11.0       11.9 -0.9\n",
              "10  stacking_reg       0.0       11.9  0.0\n",
              "2            xgb      11.2       12.0 -0.8\n",
              "12      stack_cb       0.0       12.0  0.0\n",
              "1           lgbm      10.5       12.1 -1.6\n",
              "6             dt      11.1       12.4 -1.3\n",
              "9       vecstack       0.0       15.5  0.0\n",
              "4             lr      15.4       15.8 -0.4\n",
              "13      stack_lr       0.0       15.9  0.0\n",
              "5             kn      16.1       17.4 -1.3\n",
              "11      stack_kn       0.0       17.4  0.0"
            ],
            "text/html": [
              "\n",
              "  <div id=\"df-9689a1df-7b74-4e43-95f2-cff409263aaf\">\n",
              "    <div class=\"colab-df-container\">\n",
              "      <div>\n",
              "<style scoped>\n",
              "    .dataframe tbody tr th:only-of-type {\n",
              "        vertical-align: middle;\n",
              "    }\n",
              "\n",
              "    .dataframe tbody tr th {\n",
              "        vertical-align: top;\n",
              "    }\n",
              "\n",
              "    .dataframe thead th {\n",
              "        text-align: right;\n",
              "    }\n",
              "</style>\n",
              "<table border=\"1\" class=\"dataframe\">\n",
              "  <thead>\n",
              "    <tr style=\"text-align: right;\">\n",
              "      <th></th>\n",
              "      <th>model</th>\n",
              "      <th>rmse_val</th>\n",
              "      <th>rmse_test</th>\n",
              "      <th>dif</th>\n",
              "    </tr>\n",
              "  </thead>\n",
              "  <tbody>\n",
              "    <tr>\n",
              "      <th>7</th>\n",
              "      <td>blend_median</td>\n",
              "      <td>0.0</td>\n",
              "      <td>11.8</td>\n",
              "      <td>0.0</td>\n",
              "    </tr>\n",
              "    <tr>\n",
              "      <th>8</th>\n",
              "      <td>blend_w</td>\n",
              "      <td>0.0</td>\n",
              "      <td>11.8</td>\n",
              "      <td>0.0</td>\n",
              "    </tr>\n",
              "    <tr>\n",
              "      <th>0</th>\n",
              "      <td>cb</td>\n",
              "      <td>10.6</td>\n",
              "      <td>11.9</td>\n",
              "      <td>-1.3</td>\n",
              "    </tr>\n",
              "    <tr>\n",
              "      <th>3</th>\n",
              "      <td>rf</td>\n",
              "      <td>11.0</td>\n",
              "      <td>11.9</td>\n",
              "      <td>-0.9</td>\n",
              "    </tr>\n",
              "    <tr>\n",
              "      <th>10</th>\n",
              "      <td>stacking_reg</td>\n",
              "      <td>0.0</td>\n",
              "      <td>11.9</td>\n",
              "      <td>0.0</td>\n",
              "    </tr>\n",
              "    <tr>\n",
              "      <th>2</th>\n",
              "      <td>xgb</td>\n",
              "      <td>11.2</td>\n",
              "      <td>12.0</td>\n",
              "      <td>-0.8</td>\n",
              "    </tr>\n",
              "    <tr>\n",
              "      <th>12</th>\n",
              "      <td>stack_cb</td>\n",
              "      <td>0.0</td>\n",
              "      <td>12.0</td>\n",
              "      <td>0.0</td>\n",
              "    </tr>\n",
              "    <tr>\n",
              "      <th>1</th>\n",
              "      <td>lgbm</td>\n",
              "      <td>10.5</td>\n",
              "      <td>12.1</td>\n",
              "      <td>-1.6</td>\n",
              "    </tr>\n",
              "    <tr>\n",
              "      <th>6</th>\n",
              "      <td>dt</td>\n",
              "      <td>11.1</td>\n",
              "      <td>12.4</td>\n",
              "      <td>-1.3</td>\n",
              "    </tr>\n",
              "    <tr>\n",
              "      <th>9</th>\n",
              "      <td>vecstack</td>\n",
              "      <td>0.0</td>\n",
              "      <td>15.5</td>\n",
              "      <td>0.0</td>\n",
              "    </tr>\n",
              "    <tr>\n",
              "      <th>4</th>\n",
              "      <td>lr</td>\n",
              "      <td>15.4</td>\n",
              "      <td>15.8</td>\n",
              "      <td>-0.4</td>\n",
              "    </tr>\n",
              "    <tr>\n",
              "      <th>13</th>\n",
              "      <td>stack_lr</td>\n",
              "      <td>0.0</td>\n",
              "      <td>15.9</td>\n",
              "      <td>0.0</td>\n",
              "    </tr>\n",
              "    <tr>\n",
              "      <th>5</th>\n",
              "      <td>kn</td>\n",
              "      <td>16.1</td>\n",
              "      <td>17.4</td>\n",
              "      <td>-1.3</td>\n",
              "    </tr>\n",
              "    <tr>\n",
              "      <th>11</th>\n",
              "      <td>stack_kn</td>\n",
              "      <td>0.0</td>\n",
              "      <td>17.4</td>\n",
              "      <td>0.0</td>\n",
              "    </tr>\n",
              "  </tbody>\n",
              "</table>\n",
              "</div>\n",
              "      <button class=\"colab-df-convert\" onclick=\"convertToInteractive('df-9689a1df-7b74-4e43-95f2-cff409263aaf')\"\n",
              "              title=\"Convert this dataframe to an interactive table.\"\n",
              "              style=\"display:none;\">\n",
              "        \n",
              "  <svg xmlns=\"http://www.w3.org/2000/svg\" height=\"24px\"viewBox=\"0 0 24 24\"\n",
              "       width=\"24px\">\n",
              "    <path d=\"M0 0h24v24H0V0z\" fill=\"none\"/>\n",
              "    <path d=\"M18.56 5.44l.94 2.06.94-2.06 2.06-.94-2.06-.94-.94-2.06-.94 2.06-2.06.94zm-11 1L8.5 8.5l.94-2.06 2.06-.94-2.06-.94L8.5 2.5l-.94 2.06-2.06.94zm10 10l.94 2.06.94-2.06 2.06-.94-2.06-.94-.94-2.06-.94 2.06-2.06.94z\"/><path d=\"M17.41 7.96l-1.37-1.37c-.4-.4-.92-.59-1.43-.59-.52 0-1.04.2-1.43.59L10.3 9.45l-7.72 7.72c-.78.78-.78 2.05 0 2.83L4 21.41c.39.39.9.59 1.41.59.51 0 1.02-.2 1.41-.59l7.78-7.78 2.81-2.81c.8-.78.8-2.07 0-2.86zM5.41 20L4 18.59l7.72-7.72 1.47 1.35L5.41 20z\"/>\n",
              "  </svg>\n",
              "      </button>\n",
              "      \n",
              "  <style>\n",
              "    .colab-df-container {\n",
              "      display:flex;\n",
              "      flex-wrap:wrap;\n",
              "      gap: 12px;\n",
              "    }\n",
              "\n",
              "    .colab-df-convert {\n",
              "      background-color: #E8F0FE;\n",
              "      border: none;\n",
              "      border-radius: 50%;\n",
              "      cursor: pointer;\n",
              "      display: none;\n",
              "      fill: #1967D2;\n",
              "      height: 32px;\n",
              "      padding: 0 0 0 0;\n",
              "      width: 32px;\n",
              "    }\n",
              "\n",
              "    .colab-df-convert:hover {\n",
              "      background-color: #E2EBFA;\n",
              "      box-shadow: 0px 1px 2px rgba(60, 64, 67, 0.3), 0px 1px 3px 1px rgba(60, 64, 67, 0.15);\n",
              "      fill: #174EA6;\n",
              "    }\n",
              "\n",
              "    [theme=dark] .colab-df-convert {\n",
              "      background-color: #3B4455;\n",
              "      fill: #D2E3FC;\n",
              "    }\n",
              "\n",
              "    [theme=dark] .colab-df-convert:hover {\n",
              "      background-color: #434B5C;\n",
              "      box-shadow: 0px 1px 3px 1px rgba(0, 0, 0, 0.15);\n",
              "      filter: drop-shadow(0px 1px 2px rgba(0, 0, 0, 0.3));\n",
              "      fill: #FFFFFF;\n",
              "    }\n",
              "  </style>\n",
              "\n",
              "      <script>\n",
              "        const buttonEl =\n",
              "          document.querySelector('#df-9689a1df-7b74-4e43-95f2-cff409263aaf button.colab-df-convert');\n",
              "        buttonEl.style.display =\n",
              "          google.colab.kernel.accessAllowed ? 'block' : 'none';\n",
              "\n",
              "        async function convertToInteractive(key) {\n",
              "          const element = document.querySelector('#df-9689a1df-7b74-4e43-95f2-cff409263aaf');\n",
              "          const dataTable =\n",
              "            await google.colab.kernel.invokeFunction('convertToInteractive',\n",
              "                                                     [key], {});\n",
              "          if (!dataTable) return;\n",
              "\n",
              "          const docLinkHtml = 'Like what you see? Visit the ' +\n",
              "            '<a target=\"_blank\" href=https://colab.research.google.com/notebooks/data_table.ipynb>data table notebook</a>'\n",
              "            + ' to learn more about interactive tables.';\n",
              "          element.innerHTML = '';\n",
              "          dataTable['output_type'] = 'display_data';\n",
              "          await google.colab.output.renderOutput(dataTable, element);\n",
              "          const docLink = document.createElement('div');\n",
              "          docLink.innerHTML = docLinkHtml;\n",
              "          element.appendChild(docLink);\n",
              "        }\n",
              "      </script>\n",
              "    </div>\n",
              "  </div>\n",
              "  "
            ]
          },
          "metadata": {},
          "execution_count": 109
        }
      ],
      "source": [
        "scores.round(1).sort_values('rmse_test')"
      ]
    },
    {
      "cell_type": "markdown",
      "metadata": {
        "id": "dZZHcFpF7b-U"
      },
      "source": [
        "Возьмем предсказания с лучшими rmse на тесте и посчитаем среднюю, медиану и попробуем веса."
      ]
    },
    {
      "cell_type": "code",
      "execution_count": null,
      "metadata": {
        "colab": {
          "base_uri": "https://localhost:8080/"
        },
        "id": "mowzJqYL7b-U",
        "outputId": "36ab3f5b-02cf-40d9-a10b-53f7b34966af"
      },
      "outputs": [
        {
          "output_type": "stream",
          "name": "stdout",
          "text": [
            "CSV file saved!\n"
          ]
        }
      ],
      "source": [
        "blend_cols = [#'target_reg_cb',              #rmse 11.9\n",
        "              #'target_reg_lgbm',           #rmse 12.1\n",
        "              #'target_reg_xgb',            #rmse 12.0\n",
        "              #'target_reg_rf',              #rmse 11.9\n",
        "              #'target_reg_lr',             #rmse 15.8\n",
        "              #'target_reg_kn',             #rmse 17.4\n",
        "              #'target_reg_dt',             #rmse 12.4\n",
        "              'target_reg_blend_m',         #rmse 11.8\n",
        "              'target_reg_blend_w',         #rmse 11.8\n",
        "              'target_reg_stacking_reg',    #rmse 11.9\n",
        "              #'target_reg_stack_cb',       #rmse 13.0\n",
        "              #'target_reg_stack_kn',       #rmse 17.4\n",
        "              #'target_reg_stack_lr',       #rmse 15.9\n",
        "             ]\n",
        "\n",
        "\n",
        "test['target_reg'] = test[blend_cols].mean(axis=1)\n",
        "\n",
        "file_suffix = 'blend_stack_mean'\n",
        "save_csv(file_suffix)\n",
        "\n",
        "test[f'target_reg_{file_suffix}'] = test['target_reg']"
      ]
    },
    {
      "cell_type": "markdown",
      "metadata": {
        "id": "JsI4q0yZ7b-V"
      },
      "source": [
        "RMSE вашего решения 11.7 mean"
      ]
    },
    {
      "cell_type": "code",
      "execution_count": null,
      "metadata": {
        "colab": {
          "base_uri": "https://localhost:8080/"
        },
        "id": "vw5krIIo7b-V",
        "outputId": "4902c41f-e98b-482f-ab26-a75663436aec"
      },
      "outputs": [
        {
          "output_type": "stream",
          "name": "stdout",
          "text": [
            "CSV file saved!\n"
          ]
        }
      ],
      "source": [
        "blend_cols = ['target_reg_cb',              #rmse 11.9\n",
        "              #'target_reg_lgbm',           #rmse 12.1\n",
        "              #'target_reg_xgb',            #rmse 12.0\n",
        "              'target_reg_rf',              #rmse 11.9\n",
        "              #'target_reg_lr',             #rmse 15.8\n",
        "              #'target_reg_kn',             #rmse 17.4\n",
        "              #'target_reg_dt',             #rmse 12.4\n",
        "              'target_reg_blend_m',         #rmse 11.8\n",
        "              'target_reg_blend_w',         #rmse 11.8\n",
        "              'target_reg_stacking_reg',    #rmse 11.9\n",
        "              #'target_reg_stack_cb',       #rmse 13.0\n",
        "              #'target_reg_stack_kn',       #rmse 17.4\n",
        "              #'target_reg_stack_lr',       #rmse 15.9\n",
        "             ]\n",
        "\n",
        "test['target_reg'] = test[blend_cols].median(axis=1)\n",
        "\n",
        "file_suffix = 'blend_stack_median'\n",
        "save_csv(file_suffix)\n",
        "\n",
        "test[f'target_reg_{file_suffix}'] = test['target_reg']"
      ]
    },
    {
      "cell_type": "markdown",
      "metadata": {
        "id": "rKe3b4MF7b-V"
      },
      "source": [
        "RMSE вашего решения 11.8 median"
      ]
    },
    {
      "cell_type": "code",
      "execution_count": null,
      "metadata": {
        "colab": {
          "base_uri": "https://localhost:8080/"
        },
        "id": "wBd3iA6H7b-V",
        "outputId": "f23e6f3d-8421-405f-c125-47c66a67b891"
      },
      "outputs": [
        {
          "output_type": "stream",
          "name": "stdout",
          "text": [
            "ok\n"
          ]
        }
      ],
      "source": [
        "w_cb = 0.15      #rmse 11.9\n",
        "w_lgbm = 0       #rmse 12.1\n",
        "w_xgb = 0        #rmse 12.0\n",
        "w_rf = 0.15      #rmse 11.9\n",
        "w_lr = 0         #rmse 15.8\n",
        "w_kn = 0         #rmse 17.4\n",
        "w_dt = 0.        #rmse 12.4\n",
        "w_b_m = 0.       #rmse 11.8\n",
        "w_b_w =  0       #rmse 11.8\n",
        "w_s_sr = 0       #rmse 11.9\n",
        "w_s_cb = 0       #rmse 13.0\n",
        "w_s_kn =  0      #rmse 17.4\n",
        "w_s_lr =  0      #rmse 15.9\n",
        "w_b_s_mn = 0.4   #rmse 11.7\n",
        "w_b_s_md = 0.3   #rmse 11.8\n",
        "\n",
        "check_w = round(w_cb+w_lgbm+w_xgb+w_rf+w_lr+w_kn+w_dt+w_b_m+w_b_w+w_s_sr+w_s_cb+w_s_kn+w_s_lr+w_b_s_mn+w_b_s_md, 4)\n",
        "\n",
        "if check_w != 1.:\n",
        "    print(\"!!!проверить веса!!!\", check_w-1)\n",
        "else:\n",
        "    print('ok')"
      ]
    },
    {
      "cell_type": "code",
      "execution_count": null,
      "metadata": {
        "colab": {
          "base_uri": "https://localhost:8080/"
        },
        "id": "xYNS-PDR7b-V",
        "outputId": "4559742f-9759-4ace-eef1-ac8c6cd8aa59"
      },
      "outputs": [
        {
          "output_type": "stream",
          "name": "stdout",
          "text": [
            "CSV file saved!\n"
          ]
        }
      ],
      "source": [
        "test['target_reg'] = (test['target_reg_cb'] * w_cb +\n",
        "                      test['target_reg_lgbm'] * w_lgbm +\n",
        "                      test['target_reg_xgb'] * w_xgb +\n",
        "                      test['target_reg_rf'] * w_rf +\n",
        "                      test['target_reg_lr'] * w_lr +\n",
        "                      test['target_reg_kn'] * w_kn +\n",
        "                      test['target_reg_dt'] * w_dt +\n",
        "                      test['target_reg_blend_m'] * w_b_m +\n",
        "                      test['target_reg_blend_w'] * w_b_w +\n",
        "                      test['target_reg_stacking_reg'] * w_s_sr +\n",
        "                      test['target_reg_stack_cb'] * w_s_cb +\n",
        "                      test['target_reg_stack_kn'] * w_s_kn +\n",
        "                      test['target_reg_stack_lr'] * w_s_lr +\n",
        "                      test['target_reg_blend_stack_mean'] * w_b_s_mn +\n",
        "                      test['target_reg_blend_stack_median'] * w_b_s_md\n",
        "                      )\n",
        "\n",
        "file_suffix = 'blend_stack_w'\n",
        "save_csv(file_suffix)\n",
        "\n",
        "test[f'target_reg_{file_suffix}'] = test['target_reg']"
      ]
    },
    {
      "cell_type": "markdown",
      "metadata": {
        "id": "CajSGisB7b-V"
      },
      "source": [
        "RMSE вашего решения 11.7 w"
      ]
    },
    {
      "cell_type": "markdown",
      "metadata": {
        "id": "8dvID_JI7b-V"
      },
      "source": [
        "## Выводы"
      ]
    },
    {
      "cell_type": "markdown",
      "metadata": {
        "id": "9Lgn7NDa7b-V"
      },
      "source": [
        "Дополним итоговую таблицу и сделаем выводы."
      ]
    },
    {
      "cell_type": "code",
      "execution_count": null,
      "metadata": {
        "id": "K-4EhTlI7b-V"
      },
      "outputs": [],
      "source": [
        "scores.loc[len(scores.index)] = ['blend_stack_mean',0,11.7,0]\n",
        "scores.loc[len(scores.index)] = ['blend_stack_median',0,11.8,0]\n",
        "scores.loc[len(scores.index)] = ['blend_stack_w',0,11.7,0]"
      ]
    },
    {
      "cell_type": "code",
      "execution_count": null,
      "metadata": {
        "colab": {
          "base_uri": "https://localhost:8080/",
          "height": 363
        },
        "id": "9xj4w0QT7b-V",
        "outputId": "136703e0-4050-443f-b40d-5ea7f88bdadb"
      },
      "outputs": [
        {
          "output_type": "execute_result",
          "data": {
            "text/plain": [
              "                 model  rmse_val  rmse_test  dif\n",
              "16       blend_stack_w       0.0       11.7  0.0\n",
              "14    blend_stack_mean       0.0       11.7  0.0\n",
              "15  blend_stack_median       0.0       11.8  0.0\n",
              "7         blend_median       0.0       11.8  0.0\n",
              "8              blend_w       0.0       11.8  0.0\n",
              "3                   rf      11.0       11.9 -0.9\n",
              "10        stacking_reg       0.0       11.9  0.0\n",
              "0                   cb      10.6       11.9 -1.3\n",
              "2                  xgb      11.2       12.0 -0.8\n",
              "12            stack_cb       0.0       12.0  0.0"
            ],
            "text/html": [
              "\n",
              "  <div id=\"df-c2fefd4e-1ec7-41cb-8003-e05aefac2fd9\">\n",
              "    <div class=\"colab-df-container\">\n",
              "      <div>\n",
              "<style scoped>\n",
              "    .dataframe tbody tr th:only-of-type {\n",
              "        vertical-align: middle;\n",
              "    }\n",
              "\n",
              "    .dataframe tbody tr th {\n",
              "        vertical-align: top;\n",
              "    }\n",
              "\n",
              "    .dataframe thead th {\n",
              "        text-align: right;\n",
              "    }\n",
              "</style>\n",
              "<table border=\"1\" class=\"dataframe\">\n",
              "  <thead>\n",
              "    <tr style=\"text-align: right;\">\n",
              "      <th></th>\n",
              "      <th>model</th>\n",
              "      <th>rmse_val</th>\n",
              "      <th>rmse_test</th>\n",
              "      <th>dif</th>\n",
              "    </tr>\n",
              "  </thead>\n",
              "  <tbody>\n",
              "    <tr>\n",
              "      <th>16</th>\n",
              "      <td>blend_stack_w</td>\n",
              "      <td>0.0</td>\n",
              "      <td>11.7</td>\n",
              "      <td>0.0</td>\n",
              "    </tr>\n",
              "    <tr>\n",
              "      <th>14</th>\n",
              "      <td>blend_stack_mean</td>\n",
              "      <td>0.0</td>\n",
              "      <td>11.7</td>\n",
              "      <td>0.0</td>\n",
              "    </tr>\n",
              "    <tr>\n",
              "      <th>15</th>\n",
              "      <td>blend_stack_median</td>\n",
              "      <td>0.0</td>\n",
              "      <td>11.8</td>\n",
              "      <td>0.0</td>\n",
              "    </tr>\n",
              "    <tr>\n",
              "      <th>7</th>\n",
              "      <td>blend_median</td>\n",
              "      <td>0.0</td>\n",
              "      <td>11.8</td>\n",
              "      <td>0.0</td>\n",
              "    </tr>\n",
              "    <tr>\n",
              "      <th>8</th>\n",
              "      <td>blend_w</td>\n",
              "      <td>0.0</td>\n",
              "      <td>11.8</td>\n",
              "      <td>0.0</td>\n",
              "    </tr>\n",
              "    <tr>\n",
              "      <th>3</th>\n",
              "      <td>rf</td>\n",
              "      <td>11.0</td>\n",
              "      <td>11.9</td>\n",
              "      <td>-0.9</td>\n",
              "    </tr>\n",
              "    <tr>\n",
              "      <th>10</th>\n",
              "      <td>stacking_reg</td>\n",
              "      <td>0.0</td>\n",
              "      <td>11.9</td>\n",
              "      <td>0.0</td>\n",
              "    </tr>\n",
              "    <tr>\n",
              "      <th>0</th>\n",
              "      <td>cb</td>\n",
              "      <td>10.6</td>\n",
              "      <td>11.9</td>\n",
              "      <td>-1.3</td>\n",
              "    </tr>\n",
              "    <tr>\n",
              "      <th>2</th>\n",
              "      <td>xgb</td>\n",
              "      <td>11.2</td>\n",
              "      <td>12.0</td>\n",
              "      <td>-0.8</td>\n",
              "    </tr>\n",
              "    <tr>\n",
              "      <th>12</th>\n",
              "      <td>stack_cb</td>\n",
              "      <td>0.0</td>\n",
              "      <td>12.0</td>\n",
              "      <td>0.0</td>\n",
              "    </tr>\n",
              "  </tbody>\n",
              "</table>\n",
              "</div>\n",
              "      <button class=\"colab-df-convert\" onclick=\"convertToInteractive('df-c2fefd4e-1ec7-41cb-8003-e05aefac2fd9')\"\n",
              "              title=\"Convert this dataframe to an interactive table.\"\n",
              "              style=\"display:none;\">\n",
              "        \n",
              "  <svg xmlns=\"http://www.w3.org/2000/svg\" height=\"24px\"viewBox=\"0 0 24 24\"\n",
              "       width=\"24px\">\n",
              "    <path d=\"M0 0h24v24H0V0z\" fill=\"none\"/>\n",
              "    <path d=\"M18.56 5.44l.94 2.06.94-2.06 2.06-.94-2.06-.94-.94-2.06-.94 2.06-2.06.94zm-11 1L8.5 8.5l.94-2.06 2.06-.94-2.06-.94L8.5 2.5l-.94 2.06-2.06.94zm10 10l.94 2.06.94-2.06 2.06-.94-2.06-.94-.94-2.06-.94 2.06-2.06.94z\"/><path d=\"M17.41 7.96l-1.37-1.37c-.4-.4-.92-.59-1.43-.59-.52 0-1.04.2-1.43.59L10.3 9.45l-7.72 7.72c-.78.78-.78 2.05 0 2.83L4 21.41c.39.39.9.59 1.41.59.51 0 1.02-.2 1.41-.59l7.78-7.78 2.81-2.81c.8-.78.8-2.07 0-2.86zM5.41 20L4 18.59l7.72-7.72 1.47 1.35L5.41 20z\"/>\n",
              "  </svg>\n",
              "      </button>\n",
              "      \n",
              "  <style>\n",
              "    .colab-df-container {\n",
              "      display:flex;\n",
              "      flex-wrap:wrap;\n",
              "      gap: 12px;\n",
              "    }\n",
              "\n",
              "    .colab-df-convert {\n",
              "      background-color: #E8F0FE;\n",
              "      border: none;\n",
              "      border-radius: 50%;\n",
              "      cursor: pointer;\n",
              "      display: none;\n",
              "      fill: #1967D2;\n",
              "      height: 32px;\n",
              "      padding: 0 0 0 0;\n",
              "      width: 32px;\n",
              "    }\n",
              "\n",
              "    .colab-df-convert:hover {\n",
              "      background-color: #E2EBFA;\n",
              "      box-shadow: 0px 1px 2px rgba(60, 64, 67, 0.3), 0px 1px 3px 1px rgba(60, 64, 67, 0.15);\n",
              "      fill: #174EA6;\n",
              "    }\n",
              "\n",
              "    [theme=dark] .colab-df-convert {\n",
              "      background-color: #3B4455;\n",
              "      fill: #D2E3FC;\n",
              "    }\n",
              "\n",
              "    [theme=dark] .colab-df-convert:hover {\n",
              "      background-color: #434B5C;\n",
              "      box-shadow: 0px 1px 3px 1px rgba(0, 0, 0, 0.15);\n",
              "      filter: drop-shadow(0px 1px 2px rgba(0, 0, 0, 0.3));\n",
              "      fill: #FFFFFF;\n",
              "    }\n",
              "  </style>\n",
              "\n",
              "      <script>\n",
              "        const buttonEl =\n",
              "          document.querySelector('#df-c2fefd4e-1ec7-41cb-8003-e05aefac2fd9 button.colab-df-convert');\n",
              "        buttonEl.style.display =\n",
              "          google.colab.kernel.accessAllowed ? 'block' : 'none';\n",
              "\n",
              "        async function convertToInteractive(key) {\n",
              "          const element = document.querySelector('#df-c2fefd4e-1ec7-41cb-8003-e05aefac2fd9');\n",
              "          const dataTable =\n",
              "            await google.colab.kernel.invokeFunction('convertToInteractive',\n",
              "                                                     [key], {});\n",
              "          if (!dataTable) return;\n",
              "\n",
              "          const docLinkHtml = 'Like what you see? Visit the ' +\n",
              "            '<a target=\"_blank\" href=https://colab.research.google.com/notebooks/data_table.ipynb>data table notebook</a>'\n",
              "            + ' to learn more about interactive tables.';\n",
              "          element.innerHTML = '';\n",
              "          dataTable['output_type'] = 'display_data';\n",
              "          await google.colab.output.renderOutput(dataTable, element);\n",
              "          const docLink = document.createElement('div');\n",
              "          docLink.innerHTML = docLinkHtml;\n",
              "          element.appendChild(docLink);\n",
              "        }\n",
              "      </script>\n",
              "    </div>\n",
              "  </div>\n",
              "  "
            ]
          },
          "metadata": {},
          "execution_count": 115
        }
      ],
      "source": [
        "scores.round(1).sort_values('rmse_test').head(10)"
      ]
    },
    {
      "cell_type": "code",
      "execution_count": null,
      "metadata": {
        "colab": {
          "base_uri": "https://localhost:8080/"
        },
        "id": "iqryOLKZ7b-V",
        "outputId": "3d6f81b7-8901-493f-81bd-bcce9ddc7cd4"
      },
      "outputs": [
        {
          "output_type": "stream",
          "name": "stdout",
          "text": [
            "Время отработки ноутбука 5.98 минут\n"
          ]
        }
      ],
      "source": [
        "end_time = time.time() - start_time\n",
        "print(f'Время отработки ноутбука {round((end_time)/60, 2)} минут')"
      ]
    },
    {
      "cell_type": "markdown",
      "metadata": {
        "id": "behmOOrq7b-V"
      },
      "source": [
        "Итого:\n",
        "\n",
        "- обучили 7 разных моделей с подбором гиперпараметров оптуной (лучшие из них на тесте оказались `randomforest и catboost`) --- **RMSE 11.9**\n",
        "- медиана (`xgb, catboost, randomforest`), среднее и веса (`lgbm , catboost, randomforest`) дали лучший результат, чем модели по отдельности --- **RMSE 11.8**\n",
        "(что уже позволило преодолеть порог в 11.85)\n",
        "- попробовали StackingRegressor с моделями `linearSVR, decisiontree, randomforest, lgbm` с метамоделью SVR --- **RMSE 11.9**\n",
        "- попробовали вручную стекинг с разными метамоделями (`kneighbors, catboost, linearregression`) - лучший скор оказался у стекинга с метамоделью catboost --- **RMSE 11.9**\n",
        "- далее сделали блендинг блендинга и стекинга --- **RMSE 11.7**, средняя между\n",
        "    - медианой моделей `catboost, lgbm,  randomforest`\n",
        "    - стекингом `linearSVR, decisiontree, randomforest,lgbm` с метамоделью SVR\n",
        "- также если блендить блендинг и стекинг из предыдущего пункта подбором весов, тоже можно получить --- **RMSE 11.7**\n",
        "\n",
        "В этом задании совершенно не зашли: генерация фичей, удаление фичей и удаление неважных признаков - существенного влияния на скор не замечено.\n",
        "\n",
        "В целом, было интересно поэкспериментировать.\n",
        "\n"
      ]
    },
    {
      "cell_type": "code",
      "execution_count": null,
      "metadata": {
        "id": "ChTo5dqT7b-V"
      },
      "outputs": [],
      "source": []
    }
  ],
  "metadata": {
    "colab": {
      "provenance": [],
      "toc_visible": true,
      "include_colab_link": true
    },
    "kernelspec": {
      "display_name": "Python 3 (ipykernel)",
      "language": "python",
      "name": "python3"
    },
    "language_info": {
      "codemirror_mode": {
        "name": "ipython",
        "version": 3
      },
      "file_extension": ".py",
      "mimetype": "text/x-python",
      "name": "python",
      "nbconvert_exporter": "python",
      "pygments_lexer": "ipython3",
      "version": "3.9.6"
    },
    "toc": {
      "base_numbering": 1,
      "nav_menu": {},
      "number_sections": true,
      "sideBar": true,
      "skip_h1_title": true,
      "title_cell": "Table of Contents",
      "title_sidebar": "Contents",
      "toc_cell": true,
      "toc_position": {
        "height": "calc(100% - 180px)",
        "left": "10px",
        "top": "150px",
        "width": "329px"
      },
      "toc_section_display": true,
      "toc_window_display": false
    },
    "varInspector": {
      "cols": {
        "lenName": 16,
        "lenType": 16,
        "lenVar": 40
      },
      "kernels_config": {
        "python": {
          "delete_cmd_postfix": "",
          "delete_cmd_prefix": "del ",
          "library": "var_list.py",
          "varRefreshCmd": "print(var_dic_list())"
        },
        "r": {
          "delete_cmd_postfix": ") ",
          "delete_cmd_prefix": "rm(",
          "library": "var_list.r",
          "varRefreshCmd": "cat(var_dic_list()) "
        }
      },
      "position": {
        "height": "280.844px",
        "left": "1541px",
        "right": "20px",
        "top": "119px",
        "width": "264px"
      },
      "types_to_exclude": [
        "module",
        "function",
        "builtin_function_or_method",
        "instance",
        "_Feature"
      ],
      "window_display": false
    }
  },
  "nbformat": 4,
  "nbformat_minor": 0
}